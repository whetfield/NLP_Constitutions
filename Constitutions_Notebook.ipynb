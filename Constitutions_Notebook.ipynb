{
 "cells": [
  {
   "cell_type": "markdown",
   "metadata": {
    "collapsed": true
   },
   "source": [
    "## Textual Analysis of International Constitutions"
   ]
  },
  {
   "cell_type": "code",
   "execution_count": 138,
   "metadata": {},
   "outputs": [],
   "source": [
    "# project module with helper functions\n",
    "import fletcher \n",
    "import numpy as np\n",
    "\n",
    "#Scraping and Cleaning\n",
    "import requests\n",
    "from importlib import reload\n",
    "from bs4 import BeautifulSoup\n",
    "import json\n",
    "import pickle\n",
    "import nltk\n",
    "\n",
    "#Standard Data Science \n",
    "import pandas as pd\n",
    "import numpy as np\n",
    "import matplotlib.pyplot as plt\n",
    "\n",
    "#Text Analysis Importsw\n",
    "from sklearn.feature_extraction.text import CountVectorizer\n",
    "from sklearn.feature_extraction.text import TfidfVectorizer\n",
    "from sklearn.decomposition import NMF\n",
    "from sklearn.decomposition import LatentDirichletAllocation\n",
    "from gensim import corpora, models, similarities, matutils\n",
    "from textblob import TextBlob\n",
    "from sklearn.metrics.pairwise import cosine_similarity\n",
    "from scipy import sparse\n",
    "from sklearn.metrics.pairwise import euclidean_distances\n",
    "from copy import deepcopy"
   ]
  },
  {
   "cell_type": "code",
   "execution_count": 4,
   "metadata": {},
   "outputs": [
    {
     "data": {
      "text/plain": [
       "<module 'fletcher' from '/Users/whetfield/Documents/data_science/metis_dsi/projects/proj4_Fletcher/fletcher.py'>"
      ]
     },
     "execution_count": 4,
     "metadata": {},
     "output_type": "execute_result"
    }
   ],
   "source": [
    "reload(fletcher)"
   ]
  },
  {
   "cell_type": "markdown",
   "metadata": {},
   "source": [
    "Took a look at the robots.text file for the site and there was no guidance.  A basic API for site is at below link.  I used this to access the Country IDs which could be used to access the webpages which each individual constitution.  "
   ]
  },
  {
   "cell_type": "code",
   "execution_count": 2,
   "metadata": {
    "scrolled": false
   },
   "outputs": [
    {
     "name": "stdout",
     "output_type": "stream",
     "text": [
      "<html>\n",
      " <head>\n",
      "  <title>404 Not Found</title>\n",
      " </head>\n",
      " <body>\n",
      "  <h1>404 Not Found</h1>\n",
      "  The resource could not be found.<br /><br />\n",
      "\n",
      "\n",
      "\n",
      " </body>\n",
      "</html>\n"
     ]
    }
   ],
   "source": [
    "url = 'http://www.constituteproject.org/robots.txt'\n",
    "response  = requests.get(url)\n",
    "print(response.text)"
   ]
  },
  {
   "cell_type": "markdown",
   "metadata": {},
   "source": [
    "Below commented out do all the scraping, since it takes some time, commented out and can work from pickled object loaded in the last line in the cell"
   ]
  },
  {
   "cell_type": "code",
   "execution_count": 3,
   "metadata": {
    "scrolled": false
   },
   "outputs": [],
   "source": [
    "country_id_list,enacted_updated_dict  = fletcher.get_country_ids()\n",
    "#country_const_dict = fletcher.create_constitutions_dict(country_id_list)\n",
    "#pickle.dump(country_const_dict, open( \"country_const_dict.p\", \"wb\" ) )\n",
    "country_const_dict = pickle.load( open( \"country_const_dict.p\", \"rb\" ) )"
   ]
  },
  {
   "cell_type": "markdown",
   "metadata": {},
   "source": [
    "Take a look at the usa constitution to get a feel for the current text format, what cleaning might have to be done"
   ]
  },
  {
   "cell_type": "code",
   "execution_count": 4,
   "metadata": {},
   "outputs": [],
   "source": [
    "usa_usa_usa = country_const_dict['United_States_of_America_1992']\n",
    "with open(\"US_Constitution.txt\", \"w\") as text_file:\n",
    "    text_file.write(usa_usa_usa)"
   ]
  },
  {
   "cell_type": "markdown",
   "metadata": {},
   "source": [
    "Based on this, built a cleaning helper function to produce a list of strings for each constitutional clause, getting rid of white space and extraneous website / html stuff and the bottom of the Beautiful Soup Text.\n",
    "Dictionary comprehension below achieves this. "
   ]
  },
  {
   "cell_type": "code",
   "execution_count": 5,
   "metadata": {},
   "outputs": [],
   "source": [
    "clean_dict = {key:fletcher.clean_const_dict_values(value) \n",
    "              for key,value in country_const_dict.items()}"
   ]
  },
  {
   "cell_type": "markdown",
   "metadata": {},
   "source": [
    "Next make a dataframe with all these clauses.  Also added TextBlob Polarity and Subjectivity scores to the dataframe.  Have a dataframe of ~175k number of clauses from 212 Constitutions"
   ]
  },
  {
   "cell_type": "code",
   "execution_count": 6,
   "metadata": {},
   "outputs": [
    {
     "data": {
      "text/html": [
       "<div>\n",
       "<style scoped>\n",
       "    .dataframe tbody tr th:only-of-type {\n",
       "        vertical-align: middle;\n",
       "    }\n",
       "\n",
       "    .dataframe tbody tr th {\n",
       "        vertical-align: top;\n",
       "    }\n",
       "\n",
       "    .dataframe thead th {\n",
       "        text-align: right;\n",
       "    }\n",
       "</style>\n",
       "<table border=\"1\" class=\"dataframe\">\n",
       "  <thead>\n",
       "    <tr style=\"text-align: right;\">\n",
       "      <th></th>\n",
       "      <th>Clause</th>\n",
       "      <th>Country</th>\n",
       "      <th>Polarity</th>\n",
       "      <th>Stemmed_Clause</th>\n",
       "      <th>Subjectivity</th>\n",
       "      <th>Year_Amended</th>\n",
       "      <th>Year_Enacted</th>\n",
       "    </tr>\n",
       "  </thead>\n",
       "  <tbody>\n",
       "    <tr>\n",
       "      <th>0</th>\n",
       "      <td>﻿In the name of Allah, the Most Beneficent, th...</td>\n",
       "      <td>Afghanistan_2004</td>\n",
       "      <td>0.500000</td>\n",
       "      <td>﻿in the name of allah the most benefic the mos...</td>\n",
       "      <td>0.500000</td>\n",
       "      <td>None</td>\n",
       "      <td>2004</td>\n",
       "    </tr>\n",
       "    <tr>\n",
       "      <th>1</th>\n",
       "      <td>Praise be to Allah, the Cherisher and Sustaine...</td>\n",
       "      <td>Afghanistan_2004</td>\n",
       "      <td>0.000000</td>\n",
       "      <td>prais be to allah the cherish and sustain of w...</td>\n",
       "      <td>0.066667</td>\n",
       "      <td>None</td>\n",
       "      <td>2004</td>\n",
       "    </tr>\n",
       "    <tr>\n",
       "      <th>2</th>\n",
       "      <td>We the people of Afghanistan:</td>\n",
       "      <td>Afghanistan_2004</td>\n",
       "      <td>0.000000</td>\n",
       "      <td>We the peopl of afghanistan</td>\n",
       "      <td>0.000000</td>\n",
       "      <td>None</td>\n",
       "      <td>2004</td>\n",
       "    </tr>\n",
       "    <tr>\n",
       "      <th>3</th>\n",
       "      <td>Believing firmly in Almighty God, relying on H...</td>\n",
       "      <td>Afghanistan_2004</td>\n",
       "      <td>-0.200000</td>\n",
       "      <td>believ firmli in almighti god reli on hi divin...</td>\n",
       "      <td>0.400000</td>\n",
       "      <td>None</td>\n",
       "      <td>2004</td>\n",
       "    </tr>\n",
       "    <tr>\n",
       "      <th>4</th>\n",
       "      <td>Realizing the previous injustices, miseries an...</td>\n",
       "      <td>Afghanistan_2004</td>\n",
       "      <td>-0.166667</td>\n",
       "      <td>realiz the previou injustic miseri and innumer...</td>\n",
       "      <td>0.166667</td>\n",
       "      <td>None</td>\n",
       "      <td>2004</td>\n",
       "    </tr>\n",
       "  </tbody>\n",
       "</table>\n",
       "</div>"
      ],
      "text/plain": [
       "                                              Clause           Country  \\\n",
       "0  ﻿In the name of Allah, the Most Beneficent, th...  Afghanistan_2004   \n",
       "1  Praise be to Allah, the Cherisher and Sustaine...  Afghanistan_2004   \n",
       "2                      We the people of Afghanistan:  Afghanistan_2004   \n",
       "3  Believing firmly in Almighty God, relying on H...  Afghanistan_2004   \n",
       "4  Realizing the previous injustices, miseries an...  Afghanistan_2004   \n",
       "\n",
       "   Polarity                                     Stemmed_Clause  Subjectivity  \\\n",
       "0  0.500000  ﻿in the name of allah the most benefic the mos...      0.500000   \n",
       "1  0.000000  prais be to allah the cherish and sustain of w...      0.066667   \n",
       "2  0.000000                        We the peopl of afghanistan      0.000000   \n",
       "3 -0.200000  believ firmli in almighti god reli on hi divin...      0.400000   \n",
       "4 -0.166667  realiz the previou injustic miseri and innumer...      0.166667   \n",
       "\n",
       "  Year_Amended Year_Enacted  \n",
       "0         None         2004  \n",
       "1         None         2004  \n",
       "2         None         2004  \n",
       "3         None         2004  \n",
       "4         None         2004  "
      ]
     },
     "execution_count": 6,
     "metadata": {},
     "output_type": "execute_result"
    }
   ],
   "source": [
    "df_cons = fletcher.make_const_clauses_dataframe(clean_dict, enacted_updated_dict)\n",
    "df_cons.head()"
   ]
  },
  {
   "cell_type": "code",
   "execution_count": 7,
   "metadata": {},
   "outputs": [
    {
     "name": "stdout",
     "output_type": "stream",
     "text": [
      "(176787, 7)\n"
     ]
    }
   ],
   "source": [
    "print(df_cons.shape)"
   ]
  },
  {
   "cell_type": "code",
   "execution_count": 8,
   "metadata": {},
   "outputs": [
    {
     "data": {
      "text/html": [
       "<div>\n",
       "<style scoped>\n",
       "    .dataframe tbody tr th:only-of-type {\n",
       "        vertical-align: middle;\n",
       "    }\n",
       "\n",
       "    .dataframe tbody tr th {\n",
       "        vertical-align: top;\n",
       "    }\n",
       "\n",
       "    .dataframe thead th {\n",
       "        text-align: right;\n",
       "    }\n",
       "</style>\n",
       "<table border=\"1\" class=\"dataframe\">\n",
       "  <thead>\n",
       "    <tr style=\"text-align: right;\">\n",
       "      <th></th>\n",
       "      <th>Clause</th>\n",
       "      <th>Country</th>\n",
       "      <th>Polarity</th>\n",
       "      <th>Stemmed_Clause</th>\n",
       "      <th>Subjectivity</th>\n",
       "      <th>Year_Amended</th>\n",
       "      <th>Year_Enacted</th>\n",
       "    </tr>\n",
       "  </thead>\n",
       "  <tbody>\n",
       "    <tr>\n",
       "      <th>168867</th>\n",
       "      <td>We the People of the United States, in Order t...</td>\n",
       "      <td>United_States_of_America_1992</td>\n",
       "      <td>0.275000</td>\n",
       "      <td>We the peopl of the unit state in order to for...</td>\n",
       "      <td>0.533333</td>\n",
       "      <td>1992</td>\n",
       "      <td>1789</td>\n",
       "    </tr>\n",
       "    <tr>\n",
       "      <th>168868</th>\n",
       "      <td>All legislative Powers herein granted shall be...</td>\n",
       "      <td>United_States_of_America_1992</td>\n",
       "      <td>0.000000</td>\n",
       "      <td>all legisl power herein grant shall be vest in...</td>\n",
       "      <td>0.000000</td>\n",
       "      <td>1992</td>\n",
       "      <td>1789</td>\n",
       "    </tr>\n",
       "    <tr>\n",
       "      <th>168869</th>\n",
       "      <td>The House of Representatives shall be composed...</td>\n",
       "      <td>United_States_of_America_1992</td>\n",
       "      <td>0.125000</td>\n",
       "      <td>the hous of repres shall be compos of member c...</td>\n",
       "      <td>0.250000</td>\n",
       "      <td>1992</td>\n",
       "      <td>1789</td>\n",
       "    </tr>\n",
       "    <tr>\n",
       "      <th>168870</th>\n",
       "      <td>No Person shall be a Representative who shall ...</td>\n",
       "      <td>United_States_of_America_1992</td>\n",
       "      <td>0.000000</td>\n",
       "      <td>No person shall be a repres who shall not have...</td>\n",
       "      <td>0.000000</td>\n",
       "      <td>1992</td>\n",
       "      <td>1789</td>\n",
       "    </tr>\n",
       "    <tr>\n",
       "      <th>168871</th>\n",
       "      <td>Representatives and direct Taxes shall be appo...</td>\n",
       "      <td>United_States_of_America_1992</td>\n",
       "      <td>0.066540</td>\n",
       "      <td>repres and direct tax shall be apport among th...</td>\n",
       "      <td>0.325968</td>\n",
       "      <td>1992</td>\n",
       "      <td>1789</td>\n",
       "    </tr>\n",
       "    <tr>\n",
       "      <th>168872</th>\n",
       "      <td>When vacancies happen in the Representation fr...</td>\n",
       "      <td>United_States_of_America_1992</td>\n",
       "      <td>0.000000</td>\n",
       "      <td>when vacanc happen in the represent from ani s...</td>\n",
       "      <td>0.500000</td>\n",
       "      <td>1992</td>\n",
       "      <td>1789</td>\n",
       "    </tr>\n",
       "    <tr>\n",
       "      <th>168873</th>\n",
       "      <td>The House of Representatives shall choose thei...</td>\n",
       "      <td>United_States_of_America_1992</td>\n",
       "      <td>-0.062500</td>\n",
       "      <td>the hous of repres shall choos their speaker a...</td>\n",
       "      <td>0.312500</td>\n",
       "      <td>1992</td>\n",
       "      <td>1789</td>\n",
       "    </tr>\n",
       "    <tr>\n",
       "      <th>168874</th>\n",
       "      <td>The Senate of the United States shall be compo...</td>\n",
       "      <td>United_States_of_America_1992</td>\n",
       "      <td>0.000000</td>\n",
       "      <td>the senat of the unit state shall be compos of...</td>\n",
       "      <td>0.000000</td>\n",
       "      <td>1992</td>\n",
       "      <td>1789</td>\n",
       "    </tr>\n",
       "    <tr>\n",
       "      <th>168875</th>\n",
       "      <td>Immediately after they shall be assembled in C...</td>\n",
       "      <td>United_States_of_America_1992</td>\n",
       "      <td>0.045455</td>\n",
       "      <td>immedi after they shall be assembl in consequ ...</td>\n",
       "      <td>0.128788</td>\n",
       "      <td>1992</td>\n",
       "      <td>1789</td>\n",
       "    </tr>\n",
       "    <tr>\n",
       "      <th>168876</th>\n",
       "      <td>No Person shall be a Senator who shall not hav...</td>\n",
       "      <td>United_States_of_America_1992</td>\n",
       "      <td>0.000000</td>\n",
       "      <td>No person shall be a senat who shall not have ...</td>\n",
       "      <td>0.000000</td>\n",
       "      <td>1992</td>\n",
       "      <td>1789</td>\n",
       "    </tr>\n",
       "    <tr>\n",
       "      <th>168877</th>\n",
       "      <td>The Vice President of the United States shall ...</td>\n",
       "      <td>United_States_of_America_1992</td>\n",
       "      <td>0.000000</td>\n",
       "      <td>the vice presid of the unit state shall be pre...</td>\n",
       "      <td>0.250000</td>\n",
       "      <td>1992</td>\n",
       "      <td>1789</td>\n",
       "    </tr>\n",
       "    <tr>\n",
       "      <th>168878</th>\n",
       "      <td>The Senate shall choose their other Officers, ...</td>\n",
       "      <td>United_States_of_America_1992</td>\n",
       "      <td>-0.068750</td>\n",
       "      <td>the senat shall choos their other offic and al...</td>\n",
       "      <td>0.187500</td>\n",
       "      <td>1992</td>\n",
       "      <td>1789</td>\n",
       "    </tr>\n",
       "    <tr>\n",
       "      <th>168879</th>\n",
       "      <td>The Senate shall have the sole Power to try al...</td>\n",
       "      <td>United_States_of_America_1992</td>\n",
       "      <td>0.000000</td>\n",
       "      <td>the senat shall have the sole power to tri all...</td>\n",
       "      <td>0.125000</td>\n",
       "      <td>1992</td>\n",
       "      <td>1789</td>\n",
       "    </tr>\n",
       "    <tr>\n",
       "      <th>168880</th>\n",
       "      <td>Judgment in Cases of Impeachment shall not ext...</td>\n",
       "      <td>United_States_of_America_1992</td>\n",
       "      <td>0.033333</td>\n",
       "      <td>judgment in case of impeach shall not extend f...</td>\n",
       "      <td>0.458333</td>\n",
       "      <td>1992</td>\n",
       "      <td>1789</td>\n",
       "    </tr>\n",
       "    <tr>\n",
       "      <th>168881</th>\n",
       "      <td>The Times, Places and Manner of holding Electi...</td>\n",
       "      <td>United_States_of_America_1992</td>\n",
       "      <td>0.000000</td>\n",
       "      <td>the time place and manner of hold elect for se...</td>\n",
       "      <td>0.500000</td>\n",
       "      <td>1992</td>\n",
       "      <td>1789</td>\n",
       "    </tr>\n",
       "    <tr>\n",
       "      <th>168882</th>\n",
       "      <td>The Congress shall assemble at least once in e...</td>\n",
       "      <td>United_States_of_America_1992</td>\n",
       "      <td>-0.012500</td>\n",
       "      <td>the congress shall assembl at least onc in eve...</td>\n",
       "      <td>0.458333</td>\n",
       "      <td>1992</td>\n",
       "      <td>1789</td>\n",
       "    </tr>\n",
       "    <tr>\n",
       "      <th>168883</th>\n",
       "      <td>Each House shall be the Judge of the Elections...</td>\n",
       "      <td>United_States_of_America_1992</td>\n",
       "      <td>0.150000</td>\n",
       "      <td>each hous shall be the judg of the elect retur...</td>\n",
       "      <td>0.625000</td>\n",
       "      <td>1992</td>\n",
       "      <td>1789</td>\n",
       "    </tr>\n",
       "    <tr>\n",
       "      <th>168884</th>\n",
       "      <td>Each House may determine the Rules of its Proc...</td>\n",
       "      <td>United_States_of_America_1992</td>\n",
       "      <td>0.000000</td>\n",
       "      <td>each hous may determin the rule of it proceed ...</td>\n",
       "      <td>0.000000</td>\n",
       "      <td>1992</td>\n",
       "      <td>1789</td>\n",
       "    </tr>\n",
       "    <tr>\n",
       "      <th>168885</th>\n",
       "      <td>Each House shall keep a Journal of its Proceed...</td>\n",
       "      <td>United_States_of_America_1992</td>\n",
       "      <td>0.000000</td>\n",
       "      <td>each hous shall keep a journal of it proceed a...</td>\n",
       "      <td>0.208333</td>\n",
       "      <td>1992</td>\n",
       "      <td>1789</td>\n",
       "    </tr>\n",
       "    <tr>\n",
       "      <th>168886</th>\n",
       "      <td>Neither House, during the Session of Congress,...</td>\n",
       "      <td>United_States_of_America_1992</td>\n",
       "      <td>0.083333</td>\n",
       "      <td>neither hous dure the session of congress shal...</td>\n",
       "      <td>0.416667</td>\n",
       "      <td>1992</td>\n",
       "      <td>1789</td>\n",
       "    </tr>\n",
       "    <tr>\n",
       "      <th>168887</th>\n",
       "      <td>The Senators and Representatives shall receive...</td>\n",
       "      <td>United_States_of_America_1992</td>\n",
       "      <td>-0.043750</td>\n",
       "      <td>the senat and repres shall receiv a compens fo...</td>\n",
       "      <td>0.150000</td>\n",
       "      <td>1992</td>\n",
       "      <td>1789</td>\n",
       "    </tr>\n",
       "    <tr>\n",
       "      <th>168888</th>\n",
       "      <td>No Senator or Representative shall, during the...</td>\n",
       "      <td>United_States_of_America_1992</td>\n",
       "      <td>0.000000</td>\n",
       "      <td>No senat or repres shall dure the time for whi...</td>\n",
       "      <td>0.500000</td>\n",
       "      <td>1992</td>\n",
       "      <td>1789</td>\n",
       "    </tr>\n",
       "    <tr>\n",
       "      <th>168889</th>\n",
       "      <td>All Bills for raising Revenue shall originate ...</td>\n",
       "      <td>United_States_of_America_1992</td>\n",
       "      <td>-0.125000</td>\n",
       "      <td>all bill for rais revenu shall origin in the h...</td>\n",
       "      <td>0.375000</td>\n",
       "      <td>1992</td>\n",
       "      <td>1789</td>\n",
       "    </tr>\n",
       "    <tr>\n",
       "      <th>168890</th>\n",
       "      <td>Every Bill which shall have passed the House o...</td>\n",
       "      <td>United_States_of_America_1992</td>\n",
       "      <td>0.012755</td>\n",
       "      <td>everi bill which shall have pass the hous of r...</td>\n",
       "      <td>0.289796</td>\n",
       "      <td>1992</td>\n",
       "      <td>1789</td>\n",
       "    </tr>\n",
       "    <tr>\n",
       "      <th>168891</th>\n",
       "      <td>Every Order, Resolution, or Vote to which the ...</td>\n",
       "      <td>United_States_of_America_1992</td>\n",
       "      <td>0.000000</td>\n",
       "      <td>everi order resolut or vote to which the concu...</td>\n",
       "      <td>0.562500</td>\n",
       "      <td>1992</td>\n",
       "      <td>1789</td>\n",
       "    </tr>\n",
       "    <tr>\n",
       "      <th>168892</th>\n",
       "      <td>The Congress shall have Power To lay and colle...</td>\n",
       "      <td>United_States_of_America_1992</td>\n",
       "      <td>-0.125000</td>\n",
       "      <td>the congress shall have power To lay and colle...</td>\n",
       "      <td>0.500000</td>\n",
       "      <td>1992</td>\n",
       "      <td>1789</td>\n",
       "    </tr>\n",
       "    <tr>\n",
       "      <th>168893</th>\n",
       "      <td>To borrow Money on the credit of the United St...</td>\n",
       "      <td>United_States_of_America_1992</td>\n",
       "      <td>0.000000</td>\n",
       "      <td>To borrow money on the credit of the unit state</td>\n",
       "      <td>0.000000</td>\n",
       "      <td>1992</td>\n",
       "      <td>1789</td>\n",
       "    </tr>\n",
       "    <tr>\n",
       "      <th>168894</th>\n",
       "      <td>To regulate Commerce with foreign Nations, and...</td>\n",
       "      <td>United_States_of_America_1992</td>\n",
       "      <td>-0.062500</td>\n",
       "      <td>To regul commerc with foreign nation and among...</td>\n",
       "      <td>0.062500</td>\n",
       "      <td>1992</td>\n",
       "      <td>1789</td>\n",
       "    </tr>\n",
       "    <tr>\n",
       "      <th>168895</th>\n",
       "      <td>To establish an uniform Rule of Naturalization...</td>\n",
       "      <td>United_States_of_America_1992</td>\n",
       "      <td>-0.166667</td>\n",
       "      <td>To establish an uniform rule of natur and unif...</td>\n",
       "      <td>0.333333</td>\n",
       "      <td>1992</td>\n",
       "      <td>1789</td>\n",
       "    </tr>\n",
       "    <tr>\n",
       "      <th>168896</th>\n",
       "      <td>To coin Money, regulate the Value thereof, and...</td>\n",
       "      <td>United_States_of_America_1992</td>\n",
       "      <td>-0.062500</td>\n",
       "      <td>To coin money regul the valu thereof and of fo...</td>\n",
       "      <td>0.062500</td>\n",
       "      <td>1992</td>\n",
       "      <td>1789</td>\n",
       "    </tr>\n",
       "    <tr>\n",
       "      <th>...</th>\n",
       "      <td>...</td>\n",
       "      <td>...</td>\n",
       "      <td>...</td>\n",
       "      <td>...</td>\n",
       "      <td>...</td>\n",
       "      <td>...</td>\n",
       "      <td>...</td>\n",
       "    </tr>\n",
       "    <tr>\n",
       "      <th>168989</th>\n",
       "      <td>This amendment shall not be so construed as to...</td>\n",
       "      <td>United_States_of_America_1992</td>\n",
       "      <td>0.000000</td>\n",
       "      <td>thi amend shall not be so constru as to affect...</td>\n",
       "      <td>0.000000</td>\n",
       "      <td>1992</td>\n",
       "      <td>1789</td>\n",
       "    </tr>\n",
       "    <tr>\n",
       "      <th>168990</th>\n",
       "      <td>After one year from the ratification of this a...</td>\n",
       "      <td>United_States_of_America_1992</td>\n",
       "      <td>-0.166667</td>\n",
       "      <td>after one year from the ratif of thi articl th...</td>\n",
       "      <td>0.333333</td>\n",
       "      <td>1992</td>\n",
       "      <td>1789</td>\n",
       "    </tr>\n",
       "    <tr>\n",
       "      <th>168991</th>\n",
       "      <td>The Congress and the several States shall have...</td>\n",
       "      <td>United_States_of_America_1992</td>\n",
       "      <td>0.250000</td>\n",
       "      <td>the congress and the sever state shall have co...</td>\n",
       "      <td>0.250000</td>\n",
       "      <td>1992</td>\n",
       "      <td>1789</td>\n",
       "    </tr>\n",
       "    <tr>\n",
       "      <th>168992</th>\n",
       "      <td>This article shall be inoperative unless it sh...</td>\n",
       "      <td>United_States_of_America_1992</td>\n",
       "      <td>0.000000</td>\n",
       "      <td>thi articl shall be inop unless it shall have ...</td>\n",
       "      <td>0.000000</td>\n",
       "      <td>1992</td>\n",
       "      <td>1789</td>\n",
       "    </tr>\n",
       "    <tr>\n",
       "      <th>168993</th>\n",
       "      <td>The right of citizens of the United States to ...</td>\n",
       "      <td>United_States_of_America_1992</td>\n",
       "      <td>0.192857</td>\n",
       "      <td>the right of citizen of the unit state to vote...</td>\n",
       "      <td>0.517857</td>\n",
       "      <td>1992</td>\n",
       "      <td>1789</td>\n",
       "    </tr>\n",
       "    <tr>\n",
       "      <th>168994</th>\n",
       "      <td>Congress shall have power to enforce this arti...</td>\n",
       "      <td>United_States_of_America_1992</td>\n",
       "      <td>0.500000</td>\n",
       "      <td>congress shall have power to enforc thi articl...</td>\n",
       "      <td>0.500000</td>\n",
       "      <td>1992</td>\n",
       "      <td>1789</td>\n",
       "    </tr>\n",
       "    <tr>\n",
       "      <th>168995</th>\n",
       "      <td>The terms of the President and Vice President ...</td>\n",
       "      <td>United_States_of_America_1992</td>\n",
       "      <td>0.000000</td>\n",
       "      <td>the term of the presid and vice presid shall e...</td>\n",
       "      <td>0.250000</td>\n",
       "      <td>1992</td>\n",
       "      <td>1789</td>\n",
       "    </tr>\n",
       "    <tr>\n",
       "      <th>168996</th>\n",
       "      <td>The Congress shall assemble at least once in e...</td>\n",
       "      <td>United_States_of_America_1992</td>\n",
       "      <td>-0.100000</td>\n",
       "      <td>the congress shall assembl at least onc in eve...</td>\n",
       "      <td>0.500000</td>\n",
       "      <td>1992</td>\n",
       "      <td>1789</td>\n",
       "    </tr>\n",
       "    <tr>\n",
       "      <th>168997</th>\n",
       "      <td>If, at the time fixed for the beginning of the...</td>\n",
       "      <td>United_States_of_America_1992</td>\n",
       "      <td>0.450000</td>\n",
       "      <td>If at the time fix for the begin of the term o...</td>\n",
       "      <td>0.660000</td>\n",
       "      <td>1992</td>\n",
       "      <td>1789</td>\n",
       "    </tr>\n",
       "    <tr>\n",
       "      <th>168998</th>\n",
       "      <td>The Congress may by law provide for the case o...</td>\n",
       "      <td>United_States_of_America_1992</td>\n",
       "      <td>0.285714</td>\n",
       "      <td>the congress may by law provid for the case of...</td>\n",
       "      <td>0.535714</td>\n",
       "      <td>1992</td>\n",
       "      <td>1789</td>\n",
       "    </tr>\n",
       "    <tr>\n",
       "      <th>168999</th>\n",
       "      <td>Sections 1 and 2 shall take effect on the 15th...</td>\n",
       "      <td>United_States_of_America_1992</td>\n",
       "      <td>0.000000</td>\n",
       "      <td>section 1 and 2 shall take effect on the 15th ...</td>\n",
       "      <td>0.100000</td>\n",
       "      <td>1992</td>\n",
       "      <td>1789</td>\n",
       "    </tr>\n",
       "    <tr>\n",
       "      <th>169000</th>\n",
       "      <td>This article shall be inoperative unless it sh...</td>\n",
       "      <td>United_States_of_America_1992</td>\n",
       "      <td>0.000000</td>\n",
       "      <td>thi articl shall be inop unless it shall have ...</td>\n",
       "      <td>0.000000</td>\n",
       "      <td>1992</td>\n",
       "      <td>1789</td>\n",
       "    </tr>\n",
       "    <tr>\n",
       "      <th>169001</th>\n",
       "      <td>The eighteenth article of amendment to the Con...</td>\n",
       "      <td>United_States_of_America_1992</td>\n",
       "      <td>0.000000</td>\n",
       "      <td>the eighteenth articl of amend to the constitu...</td>\n",
       "      <td>0.000000</td>\n",
       "      <td>1992</td>\n",
       "      <td>1789</td>\n",
       "    </tr>\n",
       "    <tr>\n",
       "      <th>169002</th>\n",
       "      <td>The transportation or importation into any Sta...</td>\n",
       "      <td>United_States_of_America_1992</td>\n",
       "      <td>0.000000</td>\n",
       "      <td>the transport or import into ani state territo...</td>\n",
       "      <td>0.000000</td>\n",
       "      <td>1992</td>\n",
       "      <td>1789</td>\n",
       "    </tr>\n",
       "    <tr>\n",
       "      <th>169003</th>\n",
       "      <td>This article shall be inoperative unless it sh...</td>\n",
       "      <td>United_States_of_America_1992</td>\n",
       "      <td>0.000000</td>\n",
       "      <td>thi articl shall be inop unless it shall have ...</td>\n",
       "      <td>0.000000</td>\n",
       "      <td>1992</td>\n",
       "      <td>1789</td>\n",
       "    </tr>\n",
       "    <tr>\n",
       "      <th>169004</th>\n",
       "      <td>No person shall be elected to the office of th...</td>\n",
       "      <td>United_States_of_America_1992</td>\n",
       "      <td>0.196429</td>\n",
       "      <td>No person shall be elect to the offic of the p...</td>\n",
       "      <td>0.339286</td>\n",
       "      <td>1992</td>\n",
       "      <td>1789</td>\n",
       "    </tr>\n",
       "    <tr>\n",
       "      <th>169005</th>\n",
       "      <td>This article shall be inoperative unless it sh...</td>\n",
       "      <td>United_States_of_America_1992</td>\n",
       "      <td>0.000000</td>\n",
       "      <td>thi articl shall be inop unless it shall have ...</td>\n",
       "      <td>0.000000</td>\n",
       "      <td>1992</td>\n",
       "      <td>1789</td>\n",
       "    </tr>\n",
       "    <tr>\n",
       "      <th>169006</th>\n",
       "      <td>The District constituting the seat of Governme...</td>\n",
       "      <td>United_States_of_America_1992</td>\n",
       "      <td>0.050000</td>\n",
       "      <td>the district constitut the seat of govern of t...</td>\n",
       "      <td>0.450000</td>\n",
       "      <td>1992</td>\n",
       "      <td>1789</td>\n",
       "    </tr>\n",
       "    <tr>\n",
       "      <th>169007</th>\n",
       "      <td>A number of electors of President and Vice Pre...</td>\n",
       "      <td>United_States_of_America_1992</td>\n",
       "      <td>0.080000</td>\n",
       "      <td>A number of elector of presid and vice presid ...</td>\n",
       "      <td>0.410000</td>\n",
       "      <td>1992</td>\n",
       "      <td>1789</td>\n",
       "    </tr>\n",
       "    <tr>\n",
       "      <th>169008</th>\n",
       "      <td>The Congress shall have power to enforce this ...</td>\n",
       "      <td>United_States_of_America_1992</td>\n",
       "      <td>0.500000</td>\n",
       "      <td>the congress shall have power to enforc thi ar...</td>\n",
       "      <td>0.500000</td>\n",
       "      <td>1992</td>\n",
       "      <td>1789</td>\n",
       "    </tr>\n",
       "    <tr>\n",
       "      <th>169009</th>\n",
       "      <td>The right of citizens of the United States to ...</td>\n",
       "      <td>United_States_of_America_1992</td>\n",
       "      <td>0.036508</td>\n",
       "      <td>the right of citizen of the unit state to vote...</td>\n",
       "      <td>0.430952</td>\n",
       "      <td>1992</td>\n",
       "      <td>1789</td>\n",
       "    </tr>\n",
       "    <tr>\n",
       "      <th>169010</th>\n",
       "      <td>The Congress shall have power to enforce this ...</td>\n",
       "      <td>United_States_of_America_1992</td>\n",
       "      <td>0.500000</td>\n",
       "      <td>the congress shall have power to enforc thi ar...</td>\n",
       "      <td>0.500000</td>\n",
       "      <td>1992</td>\n",
       "      <td>1789</td>\n",
       "    </tr>\n",
       "    <tr>\n",
       "      <th>169011</th>\n",
       "      <td>In case of the removal of the President from o...</td>\n",
       "      <td>United_States_of_America_1992</td>\n",
       "      <td>0.000000</td>\n",
       "      <td>In case of the remov of the presid from offic ...</td>\n",
       "      <td>0.000000</td>\n",
       "      <td>1992</td>\n",
       "      <td>1789</td>\n",
       "    </tr>\n",
       "    <tr>\n",
       "      <th>169012</th>\n",
       "      <td>Whenever there is a vacancy in the office of t...</td>\n",
       "      <td>United_States_of_America_1992</td>\n",
       "      <td>0.000000</td>\n",
       "      <td>whenev there is a vacanc in the offic of the v...</td>\n",
       "      <td>0.000000</td>\n",
       "      <td>1992</td>\n",
       "      <td>1789</td>\n",
       "    </tr>\n",
       "    <tr>\n",
       "      <th>169013</th>\n",
       "      <td>Whenever the President transmits to the Presid...</td>\n",
       "      <td>United_States_of_America_1992</td>\n",
       "      <td>-0.166667</td>\n",
       "      <td>whenev the presid transmit to the presid pro t...</td>\n",
       "      <td>0.333333</td>\n",
       "      <td>1992</td>\n",
       "      <td>1789</td>\n",
       "    </tr>\n",
       "    <tr>\n",
       "      <th>169014</th>\n",
       "      <td>Whenever the Vice President and a majority of ...</td>\n",
       "      <td>United_States_of_America_1992</td>\n",
       "      <td>-0.156250</td>\n",
       "      <td>whenev the vice presid and a major of either t...</td>\n",
       "      <td>0.343750</td>\n",
       "      <td>1992</td>\n",
       "      <td>1789</td>\n",
       "    </tr>\n",
       "    <tr>\n",
       "      <th>169015</th>\n",
       "      <td>Thereafter, when the President transmits to th...</td>\n",
       "      <td>United_States_of_America_1992</td>\n",
       "      <td>-0.160714</td>\n",
       "      <td>thereaft when the presid transmit to the presi...</td>\n",
       "      <td>0.285714</td>\n",
       "      <td>1992</td>\n",
       "      <td>1789</td>\n",
       "    </tr>\n",
       "    <tr>\n",
       "      <th>169016</th>\n",
       "      <td>The right of citizens of the United States, wh...</td>\n",
       "      <td>United_States_of_America_1992</td>\n",
       "      <td>0.184127</td>\n",
       "      <td>the right of citizen of the unit state who are...</td>\n",
       "      <td>0.456349</td>\n",
       "      <td>1992</td>\n",
       "      <td>1789</td>\n",
       "    </tr>\n",
       "    <tr>\n",
       "      <th>169017</th>\n",
       "      <td>The Congress shall have power to enforce this ...</td>\n",
       "      <td>United_States_of_America_1992</td>\n",
       "      <td>0.500000</td>\n",
       "      <td>the congress shall have power to enforc thi ar...</td>\n",
       "      <td>0.500000</td>\n",
       "      <td>1992</td>\n",
       "      <td>1789</td>\n",
       "    </tr>\n",
       "    <tr>\n",
       "      <th>169018</th>\n",
       "      <td>No law varying the compensation for the servic...</td>\n",
       "      <td>United_States_of_America_1992</td>\n",
       "      <td>0.000000</td>\n",
       "      <td>No law vari the compens for the servic of the ...</td>\n",
       "      <td>0.000000</td>\n",
       "      <td>1992</td>\n",
       "      <td>1789</td>\n",
       "    </tr>\n",
       "  </tbody>\n",
       "</table>\n",
       "<p>152 rows × 7 columns</p>\n",
       "</div>"
      ],
      "text/plain": [
       "                                                   Clause  \\\n",
       "168867  We the People of the United States, in Order t...   \n",
       "168868  All legislative Powers herein granted shall be...   \n",
       "168869  The House of Representatives shall be composed...   \n",
       "168870  No Person shall be a Representative who shall ...   \n",
       "168871  Representatives and direct Taxes shall be appo...   \n",
       "168872  When vacancies happen in the Representation fr...   \n",
       "168873  The House of Representatives shall choose thei...   \n",
       "168874  The Senate of the United States shall be compo...   \n",
       "168875  Immediately after they shall be assembled in C...   \n",
       "168876  No Person shall be a Senator who shall not hav...   \n",
       "168877  The Vice President of the United States shall ...   \n",
       "168878  The Senate shall choose their other Officers, ...   \n",
       "168879  The Senate shall have the sole Power to try al...   \n",
       "168880  Judgment in Cases of Impeachment shall not ext...   \n",
       "168881  The Times, Places and Manner of holding Electi...   \n",
       "168882  The Congress shall assemble at least once in e...   \n",
       "168883  Each House shall be the Judge of the Elections...   \n",
       "168884  Each House may determine the Rules of its Proc...   \n",
       "168885  Each House shall keep a Journal of its Proceed...   \n",
       "168886  Neither House, during the Session of Congress,...   \n",
       "168887  The Senators and Representatives shall receive...   \n",
       "168888  No Senator or Representative shall, during the...   \n",
       "168889  All Bills for raising Revenue shall originate ...   \n",
       "168890  Every Bill which shall have passed the House o...   \n",
       "168891  Every Order, Resolution, or Vote to which the ...   \n",
       "168892  The Congress shall have Power To lay and colle...   \n",
       "168893  To borrow Money on the credit of the United St...   \n",
       "168894  To regulate Commerce with foreign Nations, and...   \n",
       "168895  To establish an uniform Rule of Naturalization...   \n",
       "168896  To coin Money, regulate the Value thereof, and...   \n",
       "...                                                   ...   \n",
       "168989  This amendment shall not be so construed as to...   \n",
       "168990  After one year from the ratification of this a...   \n",
       "168991  The Congress and the several States shall have...   \n",
       "168992  This article shall be inoperative unless it sh...   \n",
       "168993  The right of citizens of the United States to ...   \n",
       "168994  Congress shall have power to enforce this arti...   \n",
       "168995  The terms of the President and Vice President ...   \n",
       "168996  The Congress shall assemble at least once in e...   \n",
       "168997  If, at the time fixed for the beginning of the...   \n",
       "168998  The Congress may by law provide for the case o...   \n",
       "168999  Sections 1 and 2 shall take effect on the 15th...   \n",
       "169000  This article shall be inoperative unless it sh...   \n",
       "169001  The eighteenth article of amendment to the Con...   \n",
       "169002  The transportation or importation into any Sta...   \n",
       "169003  This article shall be inoperative unless it sh...   \n",
       "169004  No person shall be elected to the office of th...   \n",
       "169005  This article shall be inoperative unless it sh...   \n",
       "169006  The District constituting the seat of Governme...   \n",
       "169007  A number of electors of President and Vice Pre...   \n",
       "169008  The Congress shall have power to enforce this ...   \n",
       "169009  The right of citizens of the United States to ...   \n",
       "169010  The Congress shall have power to enforce this ...   \n",
       "169011  In case of the removal of the President from o...   \n",
       "169012  Whenever there is a vacancy in the office of t...   \n",
       "169013  Whenever the President transmits to the Presid...   \n",
       "169014  Whenever the Vice President and a majority of ...   \n",
       "169015  Thereafter, when the President transmits to th...   \n",
       "169016  The right of citizens of the United States, wh...   \n",
       "169017  The Congress shall have power to enforce this ...   \n",
       "169018  No law varying the compensation for the servic...   \n",
       "\n",
       "                              Country  Polarity  \\\n",
       "168867  United_States_of_America_1992  0.275000   \n",
       "168868  United_States_of_America_1992  0.000000   \n",
       "168869  United_States_of_America_1992  0.125000   \n",
       "168870  United_States_of_America_1992  0.000000   \n",
       "168871  United_States_of_America_1992  0.066540   \n",
       "168872  United_States_of_America_1992  0.000000   \n",
       "168873  United_States_of_America_1992 -0.062500   \n",
       "168874  United_States_of_America_1992  0.000000   \n",
       "168875  United_States_of_America_1992  0.045455   \n",
       "168876  United_States_of_America_1992  0.000000   \n",
       "168877  United_States_of_America_1992  0.000000   \n",
       "168878  United_States_of_America_1992 -0.068750   \n",
       "168879  United_States_of_America_1992  0.000000   \n",
       "168880  United_States_of_America_1992  0.033333   \n",
       "168881  United_States_of_America_1992  0.000000   \n",
       "168882  United_States_of_America_1992 -0.012500   \n",
       "168883  United_States_of_America_1992  0.150000   \n",
       "168884  United_States_of_America_1992  0.000000   \n",
       "168885  United_States_of_America_1992  0.000000   \n",
       "168886  United_States_of_America_1992  0.083333   \n",
       "168887  United_States_of_America_1992 -0.043750   \n",
       "168888  United_States_of_America_1992  0.000000   \n",
       "168889  United_States_of_America_1992 -0.125000   \n",
       "168890  United_States_of_America_1992  0.012755   \n",
       "168891  United_States_of_America_1992  0.000000   \n",
       "168892  United_States_of_America_1992 -0.125000   \n",
       "168893  United_States_of_America_1992  0.000000   \n",
       "168894  United_States_of_America_1992 -0.062500   \n",
       "168895  United_States_of_America_1992 -0.166667   \n",
       "168896  United_States_of_America_1992 -0.062500   \n",
       "...                               ...       ...   \n",
       "168989  United_States_of_America_1992  0.000000   \n",
       "168990  United_States_of_America_1992 -0.166667   \n",
       "168991  United_States_of_America_1992  0.250000   \n",
       "168992  United_States_of_America_1992  0.000000   \n",
       "168993  United_States_of_America_1992  0.192857   \n",
       "168994  United_States_of_America_1992  0.500000   \n",
       "168995  United_States_of_America_1992  0.000000   \n",
       "168996  United_States_of_America_1992 -0.100000   \n",
       "168997  United_States_of_America_1992  0.450000   \n",
       "168998  United_States_of_America_1992  0.285714   \n",
       "168999  United_States_of_America_1992  0.000000   \n",
       "169000  United_States_of_America_1992  0.000000   \n",
       "169001  United_States_of_America_1992  0.000000   \n",
       "169002  United_States_of_America_1992  0.000000   \n",
       "169003  United_States_of_America_1992  0.000000   \n",
       "169004  United_States_of_America_1992  0.196429   \n",
       "169005  United_States_of_America_1992  0.000000   \n",
       "169006  United_States_of_America_1992  0.050000   \n",
       "169007  United_States_of_America_1992  0.080000   \n",
       "169008  United_States_of_America_1992  0.500000   \n",
       "169009  United_States_of_America_1992  0.036508   \n",
       "169010  United_States_of_America_1992  0.500000   \n",
       "169011  United_States_of_America_1992  0.000000   \n",
       "169012  United_States_of_America_1992  0.000000   \n",
       "169013  United_States_of_America_1992 -0.166667   \n",
       "169014  United_States_of_America_1992 -0.156250   \n",
       "169015  United_States_of_America_1992 -0.160714   \n",
       "169016  United_States_of_America_1992  0.184127   \n",
       "169017  United_States_of_America_1992  0.500000   \n",
       "169018  United_States_of_America_1992  0.000000   \n",
       "\n",
       "                                           Stemmed_Clause  Subjectivity  \\\n",
       "168867  We the peopl of the unit state in order to for...      0.533333   \n",
       "168868  all legisl power herein grant shall be vest in...      0.000000   \n",
       "168869  the hous of repres shall be compos of member c...      0.250000   \n",
       "168870  No person shall be a repres who shall not have...      0.000000   \n",
       "168871  repres and direct tax shall be apport among th...      0.325968   \n",
       "168872  when vacanc happen in the represent from ani s...      0.500000   \n",
       "168873  the hous of repres shall choos their speaker a...      0.312500   \n",
       "168874  the senat of the unit state shall be compos of...      0.000000   \n",
       "168875  immedi after they shall be assembl in consequ ...      0.128788   \n",
       "168876  No person shall be a senat who shall not have ...      0.000000   \n",
       "168877  the vice presid of the unit state shall be pre...      0.250000   \n",
       "168878  the senat shall choos their other offic and al...      0.187500   \n",
       "168879  the senat shall have the sole power to tri all...      0.125000   \n",
       "168880  judgment in case of impeach shall not extend f...      0.458333   \n",
       "168881  the time place and manner of hold elect for se...      0.500000   \n",
       "168882  the congress shall assembl at least onc in eve...      0.458333   \n",
       "168883  each hous shall be the judg of the elect retur...      0.625000   \n",
       "168884  each hous may determin the rule of it proceed ...      0.000000   \n",
       "168885  each hous shall keep a journal of it proceed a...      0.208333   \n",
       "168886  neither hous dure the session of congress shal...      0.416667   \n",
       "168887  the senat and repres shall receiv a compens fo...      0.150000   \n",
       "168888  No senat or repres shall dure the time for whi...      0.500000   \n",
       "168889  all bill for rais revenu shall origin in the h...      0.375000   \n",
       "168890  everi bill which shall have pass the hous of r...      0.289796   \n",
       "168891  everi order resolut or vote to which the concu...      0.562500   \n",
       "168892  the congress shall have power To lay and colle...      0.500000   \n",
       "168893    To borrow money on the credit of the unit state      0.000000   \n",
       "168894  To regul commerc with foreign nation and among...      0.062500   \n",
       "168895  To establish an uniform rule of natur and unif...      0.333333   \n",
       "168896  To coin money regul the valu thereof and of fo...      0.062500   \n",
       "...                                                   ...           ...   \n",
       "168989  thi amend shall not be so constru as to affect...      0.000000   \n",
       "168990  after one year from the ratif of thi articl th...      0.333333   \n",
       "168991  the congress and the sever state shall have co...      0.250000   \n",
       "168992  thi articl shall be inop unless it shall have ...      0.000000   \n",
       "168993  the right of citizen of the unit state to vote...      0.517857   \n",
       "168994  congress shall have power to enforc thi articl...      0.500000   \n",
       "168995  the term of the presid and vice presid shall e...      0.250000   \n",
       "168996  the congress shall assembl at least onc in eve...      0.500000   \n",
       "168997  If at the time fix for the begin of the term o...      0.660000   \n",
       "168998  the congress may by law provid for the case of...      0.535714   \n",
       "168999  section 1 and 2 shall take effect on the 15th ...      0.100000   \n",
       "169000  thi articl shall be inop unless it shall have ...      0.000000   \n",
       "169001  the eighteenth articl of amend to the constitu...      0.000000   \n",
       "169002  the transport or import into ani state territo...      0.000000   \n",
       "169003  thi articl shall be inop unless it shall have ...      0.000000   \n",
       "169004  No person shall be elect to the offic of the p...      0.339286   \n",
       "169005  thi articl shall be inop unless it shall have ...      0.000000   \n",
       "169006  the district constitut the seat of govern of t...      0.450000   \n",
       "169007  A number of elector of presid and vice presid ...      0.410000   \n",
       "169008  the congress shall have power to enforc thi ar...      0.500000   \n",
       "169009  the right of citizen of the unit state to vote...      0.430952   \n",
       "169010  the congress shall have power to enforc thi ar...      0.500000   \n",
       "169011  In case of the remov of the presid from offic ...      0.000000   \n",
       "169012  whenev there is a vacanc in the offic of the v...      0.000000   \n",
       "169013  whenev the presid transmit to the presid pro t...      0.333333   \n",
       "169014  whenev the vice presid and a major of either t...      0.343750   \n",
       "169015  thereaft when the presid transmit to the presi...      0.285714   \n",
       "169016  the right of citizen of the unit state who are...      0.456349   \n",
       "169017  the congress shall have power to enforc thi ar...      0.500000   \n",
       "169018  No law vari the compens for the servic of the ...      0.000000   \n",
       "\n",
       "       Year_Amended Year_Enacted  \n",
       "168867         1992         1789  \n",
       "168868         1992         1789  \n",
       "168869         1992         1789  \n",
       "168870         1992         1789  \n",
       "168871         1992         1789  \n",
       "168872         1992         1789  \n",
       "168873         1992         1789  \n",
       "168874         1992         1789  \n",
       "168875         1992         1789  \n",
       "168876         1992         1789  \n",
       "168877         1992         1789  \n",
       "168878         1992         1789  \n",
       "168879         1992         1789  \n",
       "168880         1992         1789  \n",
       "168881         1992         1789  \n",
       "168882         1992         1789  \n",
       "168883         1992         1789  \n",
       "168884         1992         1789  \n",
       "168885         1992         1789  \n",
       "168886         1992         1789  \n",
       "168887         1992         1789  \n",
       "168888         1992         1789  \n",
       "168889         1992         1789  \n",
       "168890         1992         1789  \n",
       "168891         1992         1789  \n",
       "168892         1992         1789  \n",
       "168893         1992         1789  \n",
       "168894         1992         1789  \n",
       "168895         1992         1789  \n",
       "168896         1992         1789  \n",
       "...             ...          ...  \n",
       "168989         1992         1789  \n",
       "168990         1992         1789  \n",
       "168991         1992         1789  \n",
       "168992         1992         1789  \n",
       "168993         1992         1789  \n",
       "168994         1992         1789  \n",
       "168995         1992         1789  \n",
       "168996         1992         1789  \n",
       "168997         1992         1789  \n",
       "168998         1992         1789  \n",
       "168999         1992         1789  \n",
       "169000         1992         1789  \n",
       "169001         1992         1789  \n",
       "169002         1992         1789  \n",
       "169003         1992         1789  \n",
       "169004         1992         1789  \n",
       "169005         1992         1789  \n",
       "169006         1992         1789  \n",
       "169007         1992         1789  \n",
       "169008         1992         1789  \n",
       "169009         1992         1789  \n",
       "169010         1992         1789  \n",
       "169011         1992         1789  \n",
       "169012         1992         1789  \n",
       "169013         1992         1789  \n",
       "169014         1992         1789  \n",
       "169015         1992         1789  \n",
       "169016         1992         1789  \n",
       "169017         1992         1789  \n",
       "169018         1992         1789  \n",
       "\n",
       "[152 rows x 7 columns]"
      ]
     },
     "execution_count": 8,
     "metadata": {},
     "output_type": "execute_result"
    }
   ],
   "source": [
    "df_cons.loc[df_cons.Country == 'United_States_of_America_1992',]"
   ]
  },
  {
   "cell_type": "code",
   "execution_count": 13,
   "metadata": {},
   "outputs": [],
   "source": [
    "df_cons.loc[df_cons.Country == 'Mexico_2015',].to_csv(\"Mexico_Const.csv\")"
   ]
  },
  {
   "cell_type": "markdown",
   "metadata": {},
   "source": [
    "Example of a clause"
   ]
  },
  {
   "cell_type": "code",
   "execution_count": 9,
   "metadata": {},
   "outputs": [
    {
     "data": {
      "text/plain": [
       "'We the People of the United States, in Order to form a more perfect Union, establish Justice, insure domestic Tranquility, provide for the common defense, promote the general Welfare, and secure the Blessings of Liberty to ourselves and our Posterity, do ordain and establish this Constitution for the United States of America.'"
      ]
     },
     "execution_count": 9,
     "metadata": {},
     "output_type": "execute_result"
    }
   ],
   "source": [
    "df_cons.loc[168867, \"Clause\"]"
   ]
  },
  {
   "cell_type": "markdown",
   "metadata": {},
   "source": [
    "## Topic Modeling\n",
    "\n",
    "Take a look at basic bag of words, use stop_words key word to eliminate stop words, set n_gram range from 1 to 3 and have the mimumum occurence of feature be 1% in order for inclusion. Also used stemmed words\n",
    "\n",
    "I thought there would a relatively limited number of topics in the corpus.  I won't show all the runs in this notebook, but looked at LDF and NMF with 5,10,20 topics.   I also adjusted if stemming was used and the minimum required occurrence of a term to be included \n",
    "\n",
    "NMF with 10 topics turned out to have best clarity for me.  "
   ]
  },
  {
   "cell_type": "code",
   "execution_count": 11,
   "metadata": {},
   "outputs": [
    {
     "data": {
      "text/plain": [
       "(176787, 254)"
      ]
     },
     "execution_count": 11,
     "metadata": {},
     "output_type": "execute_result"
    }
   ],
   "source": [
    "tfidf = TfidfVectorizer(stop_words='english', min_df= .01, ngram_range=(1,3))\n",
    "bag_tfidif = tfidf.fit_transform(np.array(df_cons['Stemmed_Clause']))\n",
    "nmf_model = NMF(n_components=10, random_state=47,beta_loss='frobenius')\n",
    "nmf_topics = nmf_model.fit_transform(bag_tfidif)\n",
    "bag_tfidif.shape"
   ]
  },
  {
   "cell_type": "code",
   "execution_count": null,
   "metadata": {},
   "outputs": [],
   "source": []
  },
  {
   "cell_type": "code",
   "execution_count": 12,
   "metadata": {},
   "outputs": [
    {
     "name": "stdout",
     "output_type": "stream",
     "text": [
      "Topic 1:\n",
      "member elect shall parliament hous vote repres year day council commiss speaker senat elector major hous repres assembl candid number appoint parti deputi term period committe follow meet ha session held\n",
      "Topic 2:\n",
      "offic public minist appoint servic hi gener commiss function prime prime minist hold remov act public servic servic commiss governor perform term governor gener shall judg judici chief exercis power duti deputi advic govern\n",
      "Topic 3:\n",
      "law state shall govern establish organ regul state shall feder provid public accord law shall author power determin administr local forc accord law protect territori condit intern develop social execut respect institut procedur\n",
      "Topic 4:\n",
      "court suprem judg suprem court appeal high high court justic jurisdict court shall constitut court decis proceed chief judici order shall case tribun befor constitut determin administr rule appoint crimin matter question refer ha\n",
      "Topic 5:\n",
      "articl thi articl paragraph thi claus provis refer appli govern freedom legisl feder provid term accord specifi forc schedul power principl applic purpos concern matter amend relat effect pass council compet\n",
      "Topic 6:\n",
      "right freedom protect citizen human ha guarante person everi properti duti equal exercis polit public social hi shall individu respect work educ secur chapter peopl inform legal cultur limit oblig\n",
      "Topic 7:\n",
      "nation assembl nation assembl council govern legisl peopl session approv secur territori deputi develop minist committe propos power meet polici report vote resolut senat execut submit independ budget countri pass major\n",
      "Topic 8:\n",
      "presid republ presid republ vice vice presid council minist presid shall constitut day senat shall deputi elect hi prime prime minist term govern propos chamber case submit head declar appoint territori execut follow intern\n",
      "Topic 9:\n",
      "ani person ani person proceed hi ha author offenc ani law subsect reason time purpos relat person shall order act requir subject make includ case respect matter question befor crimin provis wa entitl\n",
      "Topic 10:\n",
      "constitut thi thi constitut section provis act thi section provis thi amend subject appli accord forc subsect constitut law refer power purpos make effect thi articl chapter parliament schedul constitut court relat exercis paragraph mean provid\n"
     ]
    }
   ],
   "source": [
    "fletcher.get_lda_top_components(nmf_model,\n",
    "                                tfidf.get_feature_names(),\n",
    "                                top_words = 30)"
   ]
  },
  {
   "cell_type": "markdown",
   "metadata": {},
   "source": [
    "## Can we interpret what these topics are?  Maybe a bit NMF with 10 Features\n",
    "\n",
    "Topic1:  Rule of Law \n",
    "\n",
    "Topic2:  Legislative\n",
    "\n",
    "Topic3:  Establishment / Elections\n",
    "\n",
    "Topic4:  Judicial Branch --  Seems strong   \n",
    "\n",
    "Topic5:  Extent of Law / Applicability \n",
    "\n",
    "Topic6:  Rights of Citizens / Property- Seems strong . \n",
    "\n",
    "Topic7:  Legislative  \n",
    "\n",
    "Topic8:  Executive Branch \n",
    "\n",
    "Topic9:  Rights around being charged with a crime\n",
    "\n",
    "Topic10:  Extent of Law / Applicability"
   ]
  },
  {
   "cell_type": "markdown",
   "metadata": {},
   "source": [
    "Letsjust do a quick sanity check from a few clauses in the US constitution"
   ]
  },
  {
   "cell_type": "code",
   "execution_count": 266,
   "metadata": {},
   "outputs": [
    {
     "name": "stdout",
     "output_type": "stream",
     "text": [
      "Congress shall make no law respecting an establishment of religion, or prohibiting the free exercise thereof; or abridging the freedom of speech, or of the press; or the right of the people peaceably to assemble, and to petition the Government for a redress of grievances.\n"
     ]
    },
    {
     "data": {
      "text/plain": [
       "array([0.00145566, 0.        , 0.03296611, 0.        , 0.00067421,\n",
       "       0.0334174 , 0.016288  , 0.        , 0.        , 0.00256861])"
      ]
     },
     "execution_count": 266,
     "metadata": {},
     "output_type": "execute_result"
    }
   ],
   "source": [
    "#First Amendment, highest on Topic6 Rights of Citizen\n",
    "print (df_cons.loc[168965,'Clause'])\n",
    "nmf_topics[168965]"
   ]
  },
  {
   "cell_type": "code",
   "execution_count": 38,
   "metadata": {},
   "outputs": [
    {
     "name": "stdout",
     "output_type": "stream",
     "text": [
      "The judicial Power of the United States, shall be vested in one supreme Court, and in such inferior Courts as the Congress may from time to time ordain and establish. The Judges, both of the supreme and inferior Courts, shall hold their Offices during good Behaviour, and shall, at stated Times, receive for their Services, a Compensation, which shall not be diminished during their Continuance in Office.\n"
     ]
    },
    {
     "data": {
      "text/plain": [
       "array([0.00580802, 0.02760717, 0.02623053, 0.0521778 , 0.        ,\n",
       "       0.        , 0.        , 0.        , 0.        , 0.        ])"
      ]
     },
     "execution_count": 38,
     "metadata": {},
     "output_type": "execute_result"
    }
   ],
   "source": [
    "#Article 3 Section 1, Judicial Power, highest on the Topic 4 Judicial Branch\n",
    "print (df_cons.loc[168934,'Clause'])\n",
    "nmf_topics[168934]"
   ]
  },
  {
   "cell_type": "markdown",
   "metadata": {},
   "source": [
    "## Is there an interesting way to subset the data to get better topics?\n",
    "\n",
    "I thought perhaps subjectivity scores from TextBlob may be useful, as clauses with zero subjectivity perhaps they deal with certain topics more than subjective statements.  \n",
    "\n",
    "See distributions below of the TextBlob scores"
   ]
  },
  {
   "cell_type": "code",
   "execution_count": 20,
   "metadata": {},
   "outputs": [
    {
     "data": {
      "image/png": "[encoded data removed]",
      "text/plain": [
       "<matplotlib.figure.Figure at 0x1a10e6b6a0>"
      ]
     },
     "metadata": {},
     "output_type": "display_data"
    }
   ],
   "source": [
    "%matplotlib inline\n",
    "plt.style.use('fivethirtyeight')\n",
    "\n",
    "\n",
    "fig, (ax0, ax1) = plt.subplots(nrows=2, ncols=1, sharey=True, figsize=(20, 30))\n",
    "\n",
    "\n",
    "ax0.hist(df_cons.Subjectivity)\n",
    "ax0.set_title(\"Distribution of Subjectivity of Constitutional Clauses\", size=32)\n",
    "ax0.set_ylabel(\"Count\", size=24)\n",
    "ax0.set_xlabel(\"Subjectivity Score\", size=24);\n",
    "\n",
    "ax1.hist(df_cons.Polarity)\n",
    "ax1.set_title(\"Distribution of Polarity of Constitutional Clauses\", size=32)\n",
    "ax1.set_ylabel(\"Count\", size=24)\n",
    "ax1.set_xlabel(\"Polarity Score\", size=24);"
   ]
  },
  {
   "cell_type": "markdown",
   "metadata": {},
   "source": [
    "Groupby to try to get the share of clauses in a Country's constitution which are zero subjectivity"
   ]
  },
  {
   "cell_type": "code",
   "execution_count": 21,
   "metadata": {},
   "outputs": [],
   "source": [
    "subjective_zero = df_cons.groupby(df_cons['Country'])['Subjectivity'].apply(lambda x: x[x==0].count())\n",
    "clause_count_by_country = df_cons.groupby(df_cons['Country'])['Clause'].count()\n",
    "share_of_clauses_zero_subjective = subjective_zero / clause_count_by_country"
   ]
  },
  {
   "cell_type": "code",
   "execution_count": 22,
   "metadata": {},
   "outputs": [
    {
     "data": {
      "text/plain": [
       "(0, 1)"
      ]
     },
     "execution_count": 22,
     "metadata": {},
     "output_type": "execute_result"
    },
    {
     "data": {
      "image/png": "[encoded data removed]",
      "text/plain": [
       "<matplotlib.figure.Figure at 0x1a20c6c048>"
      ]
     },
     "metadata": {},
     "output_type": "display_data"
    }
   ],
   "source": [
    "%matplotlib inline\n",
    "plt.style.use('fivethirtyeight')\n",
    "\n",
    "\n",
    "fig, ax0 = plt.subplots(figsize=(20, 30))\n",
    "\n",
    "\n",
    "ax0.hist(share_of_clauses_zero_subjective)\n",
    "ax0.set_title(\"Percentage of Clause in Constitution with Zero Subjectivity\", size=32)\n",
    "ax0.set_ylabel(\"Count\", size=24)\n",
    "ax0.set_xlabel(\"Share_of_Clauses with Zero Subjectivity\", size=24)\n",
    "ax0.set_xlim(0,1)"
   ]
  },
  {
   "cell_type": "markdown",
   "metadata": {},
   "source": [
    "### Try to improve Topic Modeling with Subjectivity"
   ]
  },
  {
   "cell_type": "markdown",
   "metadata": {},
   "source": [
    "See if the topics get any cleaner based on my subjectivity thesis"
   ]
  },
  {
   "cell_type": "code",
   "execution_count": 27,
   "metadata": {},
   "outputs": [],
   "source": [
    "#Subjectivity Not Zero\n",
    "tfidf = TfidfVectorizer(stop_words='english', min_df= .01)\n",
    "bag_tfidif = tfidf.fit_transform(np.array(df_cons.loc[df_cons.Subjectivity != 0 ,\n",
    "                                                      'Stemmed_Clause']))\n",
    "nmf_model = NMF(n_components=10, random_state=47)\n",
    "nmf_topics = nmf_model.fit_transform(bag_tfidif)"
   ]
  },
  {
   "cell_type": "code",
   "execution_count": 28,
   "metadata": {},
   "outputs": [
    {
     "name": "stdout",
     "output_type": "stream",
     "text": [
      "Topic 1:\n",
      "member elect shall vote parliament hous year repres day commiss parti candid elector number major polit senat assembl speaker held council period term date meet deputi session gener time follow\n",
      "Topic 2:\n",
      "right freedom human citizen protect ha articl guarante everi fundament properti polit equal exercis life enjoy work individu duti social educ secur inform cultur restrict limit respect peopl republ health\n",
      "Topic 3:\n",
      "ani proceed author relat function act time question matter reason make purpos exercis includ order law impos requir subsect power forc offic befor fund confer offenc respect action otherwis direct\n",
      "Topic 4:\n",
      "court high judg suprem appeal justic jurisdict decis proceed chief judici case shall tribun crimin befor order determin question constitut ha matter administr appoint rule civil final compet refer applic\n",
      "Topic 5:\n",
      "person hi ha offenc shall everi reason appoint subject crimin subsect legal act section entitl hold case author requir wa inform purpos age unless befor commit citizen place respect proceed\n",
      "Topic 6:\n",
      "public servic commiss offic administr prosecut order author fund privat health act appoint judici account mean hold function control bodi secur properti gener institut legal requir member establish manag civil\n",
      "Topic 7:\n",
      "thi constitut provis section articl subject act appli parliament subsect paragraph forc power make refer amend law accord effect shall purpos exercis relat provid follow confer date chapter enact claus\n",
      "Topic 8:\n",
      "presid offic minist republ appoint hi gener prime function vice shall council hold remov perform term deputi governor duti exercis act chief govern judg respons power attorney advic justic follow\n",
      "Topic 9:\n",
      "nation assembl council legisl session peopl govern republ territori approv develop meet committe foreign secur presid propos countri cultur polici deputi major report submit independ intern matter budget econom day\n",
      "Topic 10:\n",
      "law shall state govern establish organ provid accord regul feder social author determin econom administr protect develop power educ local legal condit intern institut respons case peopl forc guarante territori\n"
     ]
    }
   ],
   "source": [
    "fletcher.get_lda_top_components(nmf_model,\n",
    "                                tfidf.get_feature_names(),\n",
    "                                top_words = 30)"
   ]
  },
  {
   "cell_type": "code",
   "execution_count": 29,
   "metadata": {},
   "outputs": [],
   "source": [
    "#Subjectivity Zero\n",
    "tfidf = TfidfVectorizer(stop_words='english', min_df= .01)\n",
    "bag_tfidif = tfidf.fit_transform(np.array(df_cons.loc[df_cons.Subjectivity == 0 ,\n",
    "                                                      'Stemmed_Clause']))\n",
    "nmf_model = NMF(n_components=10, random_state=47)\n",
    "nmf_topics = nmf_model.fit_transform(bag_tfidif)"
   ]
  },
  {
   "cell_type": "code",
   "execution_count": 30,
   "metadata": {},
   "outputs": [
    {
     "name": "stdout",
     "output_type": "stream",
     "text": [
      "Topic 1:\n",
      "shall commiss provid regul day gener year citizen power fund claus committe hi thi servic determin present everi governor appli establish senat peopl forc speaker submit exercis accord report protect\n",
      "Topic 2:\n",
      "articl freedom right thi paragraph claus provis govern protect power appli term duti refer legisl accord feder forc provid schedul citizen local function mean applic specifi intern requir oath offic\n",
      "Topic 3:\n",
      "presid republ offic vice hi elect appoint resign deputi constitut senat term remov day council head case submit propos territori declar function execut intern assembl oath approv chief exercis present\n",
      "Topic 4:\n",
      "law regul establish organ accord determin constitut forc provid procedur author feder make condit rule intern govern power provis right function enact respect execut protect local prescrib republ ani order\n",
      "Topic 5:\n",
      "nation assembl council legisl secur peopl chapter territori govern approv senat servic power vote organ day establish execut propos committe resolut author deputi intern declar pass report submit speaker befor\n",
      "Topic 6:\n",
      "constitut section thi act provis amend appli accord subsect purpos refer chapter schedul mean forc relat paragraph land provid power requir ha unless otherwis includ parliament make exercis gener applic\n",
      "Topic 7:\n",
      "state govern feder head protect chapter council power territori declar organ region peopl administr execut local duti legisl right respect servic citizen author form secur establish exercis republ land bodi\n",
      "Topic 8:\n",
      "ani person ha offic hi citizen subsect provis time purpos respect includ proceed relat author requir order refer matter make thi befor year appoint question right wa case hold paragraph\n",
      "Topic 9:\n",
      "court suprem judg appeal justic constitut order decis judici power chief proceed befor administr appoint tribun rule execut case establish feder matter offic refer procedur determin organ question exercis applic\n",
      "Topic 10:\n",
      "member minist parliament elect govern offic appoint council hous prime commiss hi repres deputi speaker assembl function vote senat term local gener power ha ceas resign feder governor remov oath\n"
     ]
    }
   ],
   "source": [
    "fletcher.get_lda_top_components(nmf_model,\n",
    "                                tfidf.get_feature_names(),\n",
    "                                top_words = 30)"
   ]
  },
  {
   "cell_type": "markdown",
   "metadata": {},
   "source": [
    "Not really a clean separation like I hypothesized."
   ]
  },
  {
   "cell_type": "markdown",
   "metadata": {},
   "source": [
    "### See similarity across Constitutions\n",
    "\n",
    "We saw a couple of sanity checks for the US Constitution.  How well do our topic models correspond across different countries.  For a given clause in a country's constitution, what is the closest clause from another country's constitution?  Some clauses don't work great, but below I have an example of two which are kind of close"
   ]
  },
  {
   "cell_type": "code",
   "execution_count": 26,
   "metadata": {},
   "outputs": [],
   "source": [
    "#Reload best model into the name space\n",
    "tfidf = TfidfVectorizer(stop_words='english', min_df= .01, ngram_range=(1,3))\n",
    "bag_tfidif = tfidf.fit_transform(np.array(df_cons['Stemmed_Clause']))\n",
    "nmf_model = NMF(n_components=10, random_state=47)\n",
    "nmf_topics = nmf_model.fit_transform(bag_tfidif)"
   ]
  },
  {
   "cell_type": "code",
   "execution_count": 27,
   "metadata": {},
   "outputs": [
    {
     "name": "stdout",
     "output_type": "stream",
     "text": [
      "A well regulated Militia, being necessary to the security of a free State, the right of the people to keep and bear Arms, shall not be infringed.\n"
     ]
    },
    {
     "data": {
      "text/plain": [
       "array([0.00143063, 0.        , 0.03525285, 0.        , 0.        ,\n",
       "       0.03136544, 0.00150678, 0.        , 0.        , 0.        ])"
      ]
     },
     "execution_count": 27,
     "metadata": {},
     "output_type": "execute_result"
    }
   ],
   "source": [
    "print (df_cons.loc[168966,'Clause'])\n",
    "nmf_topics[168966]"
   ]
  },
  {
   "cell_type": "code",
   "execution_count": 148,
   "metadata": {},
   "outputs": [],
   "source": [
    "def similar_clause (df_cons, doc_topic_matrix, clause_index):\n",
    "    \"\"\"\n",
    "    Pass the data frame and a document topic matrix, find\n",
    "    the clause from another constitution that has the best\n",
    "    cosine similarity based on the document_topic vector\n",
    "    \"\"\"\n",
    "    \n",
    "    #get cosine similarity for clause and all other documents\n",
    "    #python list, technically 2D numpy array\n",
    "    #make a copy of list which country clauses will be removed from\n",
    "    \n",
    "    cosine_list = cosine_similarity(doc_topic_matrix[clause_index].reshape(1,-1), \n",
    "                                    nmf_topics)\n",
    "    cosine_list = list(cosine_list[0,])\n",
    "    copy_cosine_list = deepcopy(cosine_list)\n",
    "    \n",
    "    #Get list of indices of country_constitution index\n",
    "    #Want to get most similar clause excluding this Country\n",
    "    country_index_list = df_cons.index[df_cons['Country'] == df_cons.loc[clause_index,\n",
    "                                                                         \"Country\"]].tolist()\n",
    "    #Remove those values from the copy of  cosines\n",
    "    del copy_cosine_list[country_index_list[0]:country_index_list[-1] + 1]\n",
    "    \n",
    "    max_similarity = max(copy_cosine_list)\n",
    "    \n",
    "    similar_index = cosine_list.index(max_similarity)\n",
    "    \n",
    "    print (df_cons.loc[clause_index,\"Country\"])\n",
    "    print (df_cons.loc[clause_index,\"Clause\"])\n",
    "    #print (doc_topic_matrix[clause_index])\n",
    "    print (\"\\n\")\n",
    "    print (\"Most Similar Clause from Another Country\")\n",
    "    print (df_cons.loc[similar_index,\"Country\"])\n",
    "    print (df_cons.loc[similar_index,\"Clause\"])\n",
    "    #print (doc_topic_matrix[similar_index])\n"
   ]
  },
  {
   "cell_type": "code",
   "execution_count": 149,
   "metadata": {},
   "outputs": [
    {
     "name": "stdout",
     "output_type": "stream",
     "text": [
      "United_States_of_America_1992\n",
      "A well regulated Militia, being necessary to the security of a free State, the right of the people to keep and bear Arms, shall not be infringed.\n",
      "\n",
      "\n",
      "Most Similar Clause from Another Country\n",
      "Mozambique_2007\n",
      "2. With a view to guaranteeing the right to the environment within the framework of sustainable development, the State shall adopt policies aimed at:\n"
     ]
    }
   ],
   "source": [
    "similar_clause(df_cons,nmf_topics,168966)"
   ]
  },
  {
   "cell_type": "code",
   "execution_count": 150,
   "metadata": {},
   "outputs": [
    {
     "name": "stdout",
     "output_type": "stream",
     "text": [
      "Mexico_2015\n",
      "Education provided by the State shall develop harmoniously all human abilities and will stimulate in pupils the love for the country, respect for human rights and the principles of international solidarity, independence and justice.\n",
      "\n",
      "\n",
      "Most Similar Clause from Another Country\n",
      "Eritrea_1997\n",
      "1. The State shall strive to create opportunities to ensure the fulfillment of citizens' rights to social justice and economic development and to fulfill their material and spiritual needs.\n"
     ]
    }
   ],
   "source": [
    "similar_clause(df_cons,nmf_topics,84194)"
   ]
  },
  {
   "cell_type": "code",
   "execution_count": null,
   "metadata": {},
   "outputs": [],
   "source": []
  },
  {
   "cell_type": "markdown",
   "metadata": {},
   "source": [
    "## Analyze on Constitution Level Based on Topic Composition"
   ]
  },
  {
   "cell_type": "code",
   "execution_count": 31,
   "metadata": {},
   "outputs": [],
   "source": [
    "copy_df_cons = df_cons"
   ]
  },
  {
   "cell_type": "code",
   "execution_count": 32,
   "metadata": {},
   "outputs": [
    {
     "data": {
      "text/plain": [
       "176787"
      ]
     },
     "execution_count": 32,
     "metadata": {},
     "output_type": "execute_result"
    }
   ],
   "source": [
    "len(nmf_topics[ : ,0])"
   ]
  },
  {
   "cell_type": "code",
   "execution_count": null,
   "metadata": {},
   "outputs": [],
   "source": [
    "row_sum= []\n",
    "\n",
    "for row in nmf_topics:\n",
    "    row_sum.append(sum(row))"
   ]
  },
  {
   "cell_type": "code",
   "execution_count": 35,
   "metadata": {},
   "outputs": [],
   "source": [
    "#Load into dataframe copies of topic weight for each clause\n",
    "copy_df_cons['Topic1'] = nmf_topics[ : ,0]\n",
    "copy_df_cons['Topic2'] = nmf_topics[ : ,1]\n",
    "copy_df_cons['Topic3'] = nmf_topics[ : ,2]\n",
    "copy_df_cons['Topic4'] = nmf_topics[ : ,3]\n",
    "copy_df_cons['Topic5'] = nmf_topics[ : ,4]\n",
    "copy_df_cons['Topic6'] = nmf_topics[ : ,5]\n",
    "copy_df_cons['Topic7'] = nmf_topics[ : ,6]\n",
    "copy_df_cons['Topic8'] = nmf_topics[ : ,7]\n",
    "copy_df_cons['Topic9'] = nmf_topics[ : ,8]\n",
    "copy_df_cons['Topic10'] = nmf_topics[ : ,9]\n",
    "copy_df_cons['TopicTotal'] = row_sum\n"
   ]
  },
  {
   "cell_type": "code",
   "execution_count": 115,
   "metadata": {},
   "outputs": [
    {
     "data": {
      "text/plain": [
       "176787"
      ]
     },
     "execution_count": 115,
     "metadata": {},
     "output_type": "execute_result"
    }
   ],
   "source": [
    "len(row_sum)"
   ]
  },
  {
   "cell_type": "code",
   "execution_count": 36,
   "metadata": {},
   "outputs": [
    {
     "data": {
      "text/plain": [
       "0.0351341970144982"
      ]
     },
     "execution_count": 36,
     "metadata": {},
     "output_type": "execute_result"
    }
   ],
   "source": [
    "row_sum[3]"
   ]
  },
  {
   "cell_type": "code",
   "execution_count": 38,
   "metadata": {},
   "outputs": [
    {
     "data": {
      "text/plain": [
       "0.0351341970144982"
      ]
     },
     "execution_count": 38,
     "metadata": {},
     "output_type": "execute_result"
    }
   ],
   "source": [
    "sum(nmf_topics[3])"
   ]
  },
  {
   "cell_type": "code",
   "execution_count": null,
   "metadata": {},
   "outputs": [],
   "source": [
    "#replace_in_row_sum .01 if zero\n",
    "#some are all zero for topics in the NMF document-topic matrix"
   ]
  },
  {
   "cell_type": "code",
   "execution_count": 39,
   "metadata": {},
   "outputs": [
    {
     "data": {
      "text/plain": [
       "3077"
      ]
     },
     "execution_count": 39,
     "metadata": {},
     "output_type": "execute_result"
    }
   ],
   "source": [
    "row_sum.count(0)"
   ]
  },
  {
   "cell_type": "code",
   "execution_count": 40,
   "metadata": {},
   "outputs": [],
   "source": [
    "row_sum_no_zeros = [.0001 if x == 0 else x for x in row_sum]"
   ]
  },
  {
   "cell_type": "code",
   "execution_count": 41,
   "metadata": {},
   "outputs": [
    {
     "data": {
      "text/plain": [
       "0"
      ]
     },
     "execution_count": 41,
     "metadata": {},
     "output_type": "execute_result"
    }
   ],
   "source": [
    "row_sum_no_zeros.count(0)"
   ]
  },
  {
   "cell_type": "code",
   "execution_count": 42,
   "metadata": {},
   "outputs": [],
   "source": [
    "# New Topic Total Column with no Zeros, Zeros Replaced\n",
    "copy_df_cons['TopicTotal'] = row_sum_no_zeros"
   ]
  },
  {
   "cell_type": "code",
   "execution_count": 43,
   "metadata": {},
   "outputs": [],
   "source": [
    "#Get Standardized Weights Based on the Total Weights in the row / document\n",
    "copy_df_cons['Topic1_Adj'] = copy_df_cons['Topic1'] / copy_df_cons['TopicTotal']\n",
    "copy_df_cons['Topic2_Adj'] = copy_df_cons['Topic2'] / copy_df_cons['TopicTotal']\n",
    "copy_df_cons['Topic3_Adj'] = copy_df_cons['Topic3'] / copy_df_cons['TopicTotal']\n",
    "copy_df_cons['Topic4_Adj'] = copy_df_cons['Topic4'] / copy_df_cons['TopicTotal'] \n",
    "copy_df_cons['Topic5_Adj'] = copy_df_cons['Topic5'] / copy_df_cons['TopicTotal']\n",
    "copy_df_cons['Topic6_Adj'] = copy_df_cons['Topic6'] / copy_df_cons['TopicTotal']\n",
    "copy_df_cons['Topic7_Adj'] = copy_df_cons['Topic7'] / copy_df_cons['TopicTotal']\n",
    "copy_df_cons['Topic8_Adj'] = copy_df_cons['Topic8'] / copy_df_cons['TopicTotal']\n",
    "copy_df_cons['Topic9_Adj'] = copy_df_cons['Topic9'] / copy_df_cons['TopicTotal']\n",
    "copy_df_cons['Topic10_Adj'] = copy_df_cons['Topic10'] / copy_df_cons['TopicTotal']"
   ]
  },
  {
   "cell_type": "code",
   "execution_count": 177,
   "metadata": {},
   "outputs": [],
   "source": [
    "#GroupBy Country and Sum \n",
    "topic_weights_df = copy_df_cons.groupby('Country')['Topic1_Adj', 'Topic2_Adj',\n",
    "                               'Topic3_Adj', 'Topic4_Adj',\n",
    "                               'Topic5_Adj', 'Topic6_Adj',\n",
    "                               'Topic7_Adj', 'Topic8_Adj',\n",
    "                               'Topic9_Adj', 'Topic10_Adj'].sum()"
   ]
  },
  {
   "cell_type": "code",
   "execution_count": 178,
   "metadata": {},
   "outputs": [],
   "source": [
    "#Total \n",
    "topic_weights_df['Total'] = topic_weights_df[list(topic_weights_df.columns)].sum(axis=1)"
   ]
  },
  {
   "cell_type": "code",
   "execution_count": 179,
   "metadata": {},
   "outputs": [
    {
     "data": {
      "text/html": [
       "<div>\n",
       "<style scoped>\n",
       "    .dataframe tbody tr th:only-of-type {\n",
       "        vertical-align: middle;\n",
       "    }\n",
       "\n",
       "    .dataframe tbody tr th {\n",
       "        vertical-align: top;\n",
       "    }\n",
       "\n",
       "    .dataframe thead th {\n",
       "        text-align: right;\n",
       "    }\n",
       "</style>\n",
       "<table border=\"1\" class=\"dataframe\">\n",
       "  <thead>\n",
       "    <tr style=\"text-align: right;\">\n",
       "      <th></th>\n",
       "      <th>Topic1_Adj</th>\n",
       "      <th>Topic2_Adj</th>\n",
       "      <th>Topic3_Adj</th>\n",
       "      <th>Topic4_Adj</th>\n",
       "      <th>Topic5_Adj</th>\n",
       "      <th>Topic6_Adj</th>\n",
       "      <th>Topic7_Adj</th>\n",
       "      <th>Topic8_Adj</th>\n",
       "      <th>Topic9_Adj</th>\n",
       "      <th>Topic10_Adj</th>\n",
       "      <th>Total</th>\n",
       "    </tr>\n",
       "    <tr>\n",
       "      <th>Country</th>\n",
       "      <th></th>\n",
       "      <th></th>\n",
       "      <th></th>\n",
       "      <th></th>\n",
       "      <th></th>\n",
       "      <th></th>\n",
       "      <th></th>\n",
       "      <th></th>\n",
       "      <th></th>\n",
       "      <th></th>\n",
       "      <th></th>\n",
       "    </tr>\n",
       "  </thead>\n",
       "  <tbody>\n",
       "    <tr>\n",
       "      <th>Afghanistan_2004</th>\n",
       "      <td>38.324599</td>\n",
       "      <td>13.703888</td>\n",
       "      <td>77.642434</td>\n",
       "      <td>22.442356</td>\n",
       "      <td>7.518478</td>\n",
       "      <td>21.796229</td>\n",
       "      <td>36.540493</td>\n",
       "      <td>18.770855</td>\n",
       "      <td>5.769501</td>\n",
       "      <td>30.491168</td>\n",
       "      <td>273.0</td>\n",
       "    </tr>\n",
       "    <tr>\n",
       "      <th>Albania_2016</th>\n",
       "      <td>80.493573</td>\n",
       "      <td>74.937739</td>\n",
       "      <td>202.318702</td>\n",
       "      <td>92.759987</td>\n",
       "      <td>31.810634</td>\n",
       "      <td>81.676677</td>\n",
       "      <td>61.988137</td>\n",
       "      <td>71.258608</td>\n",
       "      <td>39.369013</td>\n",
       "      <td>62.386931</td>\n",
       "      <td>799.0</td>\n",
       "    </tr>\n",
       "    <tr>\n",
       "      <th>Algeria_2016</th>\n",
       "      <td>83.380360</td>\n",
       "      <td>38.754709</td>\n",
       "      <td>172.376992</td>\n",
       "      <td>27.537153</td>\n",
       "      <td>16.765799</td>\n",
       "      <td>62.940700</td>\n",
       "      <td>84.976931</td>\n",
       "      <td>71.936155</td>\n",
       "      <td>25.383871</td>\n",
       "      <td>48.947331</td>\n",
       "      <td>633.0</td>\n",
       "    </tr>\n",
       "    <tr>\n",
       "      <th>Andorra_1993</th>\n",
       "      <td>29.531636</td>\n",
       "      <td>34.471316</td>\n",
       "      <td>78.480420</td>\n",
       "      <td>19.861354</td>\n",
       "      <td>11.808510</td>\n",
       "      <td>34.947934</td>\n",
       "      <td>14.165030</td>\n",
       "      <td>8.212329</td>\n",
       "      <td>12.756172</td>\n",
       "      <td>31.765298</td>\n",
       "      <td>276.0</td>\n",
       "    </tr>\n",
       "    <tr>\n",
       "      <th>Angola_2010</th>\n",
       "      <td>85.259066</td>\n",
       "      <td>100.610588</td>\n",
       "      <td>314.631178</td>\n",
       "      <td>67.035150</td>\n",
       "      <td>124.427512</td>\n",
       "      <td>130.588065</td>\n",
       "      <td>130.484092</td>\n",
       "      <td>104.213400</td>\n",
       "      <td>51.465998</td>\n",
       "      <td>86.284952</td>\n",
       "      <td>1195.0</td>\n",
       "    </tr>\n",
       "  </tbody>\n",
       "</table>\n",
       "</div>"
      ],
      "text/plain": [
       "                  Topic1_Adj  Topic2_Adj  Topic3_Adj  Topic4_Adj  Topic5_Adj  \\\n",
       "Country                                                                        \n",
       "Afghanistan_2004   38.324599   13.703888   77.642434   22.442356    7.518478   \n",
       "Albania_2016       80.493573   74.937739  202.318702   92.759987   31.810634   \n",
       "Algeria_2016       83.380360   38.754709  172.376992   27.537153   16.765799   \n",
       "Andorra_1993       29.531636   34.471316   78.480420   19.861354   11.808510   \n",
       "Angola_2010        85.259066  100.610588  314.631178   67.035150  124.427512   \n",
       "\n",
       "                  Topic6_Adj  Topic7_Adj  Topic8_Adj  Topic9_Adj  Topic10_Adj  \\\n",
       "Country                                                                         \n",
       "Afghanistan_2004   21.796229   36.540493   18.770855    5.769501    30.491168   \n",
       "Albania_2016       81.676677   61.988137   71.258608   39.369013    62.386931   \n",
       "Algeria_2016       62.940700   84.976931   71.936155   25.383871    48.947331   \n",
       "Andorra_1993       34.947934   14.165030    8.212329   12.756172    31.765298   \n",
       "Angola_2010       130.588065  130.484092  104.213400   51.465998    86.284952   \n",
       "\n",
       "                   Total  \n",
       "Country                   \n",
       "Afghanistan_2004   273.0  \n",
       "Albania_2016       799.0  \n",
       "Algeria_2016       633.0  \n",
       "Andorra_1993       276.0  \n",
       "Angola_2010       1195.0  "
      ]
     },
     "execution_count": 179,
     "metadata": {},
     "output_type": "execute_result"
    }
   ],
   "source": [
    "topic_weights_df.head()"
   ]
  },
  {
   "cell_type": "code",
   "execution_count": 180,
   "metadata": {},
   "outputs": [],
   "source": [
    "topic_weights_df['Topic1_Adj'] = topic_weights_df['Topic1_Adj'] / topic_weights_df['Total']\n",
    "topic_weights_df['Topic2_Adj'] = topic_weights_df['Topic2_Adj'] / topic_weights_df['Total']\n",
    "topic_weights_df['Topic3_Adj'] = topic_weights_df['Topic3_Adj'] / topic_weights_df['Total']\n",
    "topic_weights_df['Topic4_Adj'] = topic_weights_df['Topic4_Adj'] / topic_weights_df['Total'] \n",
    "topic_weights_df['Topic5_Adj'] = topic_weights_df['Topic5_Adj'] / topic_weights_df['Total']\n",
    "topic_weights_df['Topic6_Adj'] = topic_weights_df['Topic6_Adj'] / topic_weights_df['Total']\n",
    "topic_weights_df['Topic7_Adj'] = topic_weights_df['Topic7_Adj'] / topic_weights_df['Total']\n",
    "topic_weights_df['Topic8_Adj'] = topic_weights_df['Topic8_Adj'] / topic_weights_df['Total']\n",
    "topic_weights_df['Topic9_Adj'] = topic_weights_df['Topic9_Adj'] / topic_weights_df['Total']\n",
    "topic_weights_df['Topic10_Adj'] = topic_weights_df['Topic10_Adj'] / topic_weights_df['Total']"
   ]
  },
  {
   "cell_type": "code",
   "execution_count": 181,
   "metadata": {},
   "outputs": [
    {
     "data": {
      "text/html": [
       "<div>\n",
       "<style scoped>\n",
       "    .dataframe tbody tr th:only-of-type {\n",
       "        vertical-align: middle;\n",
       "    }\n",
       "\n",
       "    .dataframe tbody tr th {\n",
       "        vertical-align: top;\n",
       "    }\n",
       "\n",
       "    .dataframe thead th {\n",
       "        text-align: right;\n",
       "    }\n",
       "</style>\n",
       "<table border=\"1\" class=\"dataframe\">\n",
       "  <thead>\n",
       "    <tr style=\"text-align: right;\">\n",
       "      <th></th>\n",
       "      <th>Topic1_Adj</th>\n",
       "      <th>Topic2_Adj</th>\n",
       "      <th>Topic3_Adj</th>\n",
       "      <th>Topic4_Adj</th>\n",
       "      <th>Topic5_Adj</th>\n",
       "      <th>Topic6_Adj</th>\n",
       "      <th>Topic7_Adj</th>\n",
       "      <th>Topic8_Adj</th>\n",
       "      <th>Topic9_Adj</th>\n",
       "      <th>Topic10_Adj</th>\n",
       "      <th>Total</th>\n",
       "    </tr>\n",
       "    <tr>\n",
       "      <th>Country</th>\n",
       "      <th></th>\n",
       "      <th></th>\n",
       "      <th></th>\n",
       "      <th></th>\n",
       "      <th></th>\n",
       "      <th></th>\n",
       "      <th></th>\n",
       "      <th></th>\n",
       "      <th></th>\n",
       "      <th></th>\n",
       "      <th></th>\n",
       "    </tr>\n",
       "  </thead>\n",
       "  <tbody>\n",
       "    <tr>\n",
       "      <th>Afghanistan_2004</th>\n",
       "      <td>0.140383</td>\n",
       "      <td>0.050197</td>\n",
       "      <td>0.284405</td>\n",
       "      <td>0.082206</td>\n",
       "      <td>0.027540</td>\n",
       "      <td>0.079840</td>\n",
       "      <td>0.133848</td>\n",
       "      <td>0.068758</td>\n",
       "      <td>0.021134</td>\n",
       "      <td>0.111689</td>\n",
       "      <td>273.0</td>\n",
       "    </tr>\n",
       "    <tr>\n",
       "      <th>Albania_2016</th>\n",
       "      <td>0.100743</td>\n",
       "      <td>0.093789</td>\n",
       "      <td>0.253215</td>\n",
       "      <td>0.116095</td>\n",
       "      <td>0.039813</td>\n",
       "      <td>0.102224</td>\n",
       "      <td>0.077582</td>\n",
       "      <td>0.089185</td>\n",
       "      <td>0.049273</td>\n",
       "      <td>0.078081</td>\n",
       "      <td>799.0</td>\n",
       "    </tr>\n",
       "    <tr>\n",
       "      <th>Algeria_2016</th>\n",
       "      <td>0.131723</td>\n",
       "      <td>0.061224</td>\n",
       "      <td>0.272318</td>\n",
       "      <td>0.043503</td>\n",
       "      <td>0.026486</td>\n",
       "      <td>0.099432</td>\n",
       "      <td>0.134245</td>\n",
       "      <td>0.113643</td>\n",
       "      <td>0.040101</td>\n",
       "      <td>0.077326</td>\n",
       "      <td>633.0</td>\n",
       "    </tr>\n",
       "    <tr>\n",
       "      <th>Andorra_1993</th>\n",
       "      <td>0.106999</td>\n",
       "      <td>0.124896</td>\n",
       "      <td>0.284349</td>\n",
       "      <td>0.071961</td>\n",
       "      <td>0.042784</td>\n",
       "      <td>0.126623</td>\n",
       "      <td>0.051323</td>\n",
       "      <td>0.029755</td>\n",
       "      <td>0.046218</td>\n",
       "      <td>0.115092</td>\n",
       "      <td>276.0</td>\n",
       "    </tr>\n",
       "    <tr>\n",
       "      <th>Angola_2010</th>\n",
       "      <td>0.071346</td>\n",
       "      <td>0.084193</td>\n",
       "      <td>0.263290</td>\n",
       "      <td>0.056096</td>\n",
       "      <td>0.104123</td>\n",
       "      <td>0.109279</td>\n",
       "      <td>0.109192</td>\n",
       "      <td>0.087208</td>\n",
       "      <td>0.043068</td>\n",
       "      <td>0.072205</td>\n",
       "      <td>1195.0</td>\n",
       "    </tr>\n",
       "  </tbody>\n",
       "</table>\n",
       "</div>"
      ],
      "text/plain": [
       "                  Topic1_Adj  Topic2_Adj  Topic3_Adj  Topic4_Adj  Topic5_Adj  \\\n",
       "Country                                                                        \n",
       "Afghanistan_2004    0.140383    0.050197    0.284405    0.082206    0.027540   \n",
       "Albania_2016        0.100743    0.093789    0.253215    0.116095    0.039813   \n",
       "Algeria_2016        0.131723    0.061224    0.272318    0.043503    0.026486   \n",
       "Andorra_1993        0.106999    0.124896    0.284349    0.071961    0.042784   \n",
       "Angola_2010         0.071346    0.084193    0.263290    0.056096    0.104123   \n",
       "\n",
       "                  Topic6_Adj  Topic7_Adj  Topic8_Adj  Topic9_Adj  Topic10_Adj  \\\n",
       "Country                                                                         \n",
       "Afghanistan_2004    0.079840    0.133848    0.068758    0.021134     0.111689   \n",
       "Albania_2016        0.102224    0.077582    0.089185    0.049273     0.078081   \n",
       "Algeria_2016        0.099432    0.134245    0.113643    0.040101     0.077326   \n",
       "Andorra_1993        0.126623    0.051323    0.029755    0.046218     0.115092   \n",
       "Angola_2010         0.109279    0.109192    0.087208    0.043068     0.072205   \n",
       "\n",
       "                   Total  \n",
       "Country                   \n",
       "Afghanistan_2004   273.0  \n",
       "Albania_2016       799.0  \n",
       "Algeria_2016       633.0  \n",
       "Andorra_1993       276.0  \n",
       "Angola_2010       1195.0  "
      ]
     },
     "execution_count": 181,
     "metadata": {},
     "output_type": "execute_result"
    }
   ],
   "source": [
    "topic_weights_df.head()"
   ]
  },
  {
   "cell_type": "code",
   "execution_count": 182,
   "metadata": {},
   "outputs": [],
   "source": [
    "#Drop old Total column\n",
    "topic_weights_df.drop(['Total'],axis=1,inplace=True)"
   ]
  },
  {
   "cell_type": "code",
   "execution_count": 183,
   "metadata": {},
   "outputs": [],
   "source": [
    "#Add new Total Column , want to check it is all 1's\n",
    "topic_weights_df['Total'] = topic_weights_df[list(topic_weights_df.columns)].sum(axis=1)"
   ]
  },
  {
   "cell_type": "code",
   "execution_count": 184,
   "metadata": {},
   "outputs": [
    {
     "data": {
      "text/plain": [
       "206.0"
      ]
     },
     "execution_count": 184,
     "metadata": {},
     "output_type": "execute_result"
    }
   ],
   "source": [
    "\n",
    "topic_weights_df['Total'].sum()"
   ]
  },
  {
   "cell_type": "code",
   "execution_count": 185,
   "metadata": {},
   "outputs": [
    {
     "data": {
      "text/plain": [
       "Index(['Clause', 'Country', 'Polarity', 'Stemmed_Clause', 'Subjectivity',\n",
       "       'Year_Amended', 'Year_Enacted', 'Topic1', 'Topic2', 'Topic3', 'Topic4',\n",
       "       'Topic5', 'Topic6', 'Topic7', 'Topic8', 'Topic9', 'Topic10',\n",
       "       'TopicTotal', 'Topic1_Adj', 'Topic2_Adj', 'Topic3_Adj', 'Topic4_Adj',\n",
       "       'Topic5_Adj', 'Topic6_Adj', 'Topic7_Adj', 'Topic8_Adj', 'Topic9_Adj',\n",
       "       'Topic10_Adj'],\n",
       "      dtype='object')"
      ]
     },
     "execution_count": 185,
     "metadata": {},
     "output_type": "execute_result"
    }
   ],
   "source": [
    "df_cons.columns"
   ]
  },
  {
   "cell_type": "code",
   "execution_count": 186,
   "metadata": {},
   "outputs": [],
   "source": [
    "#Add total Clause\n",
    "clause_count_agg = df_cons.groupby('Country')['Clause'].agg('count')\n",
    "year_enacted = df_cons.groupby('Country')['Year_Enacted'].agg('max')\n",
    "topic_weights_df['Total_Clauses'] = clause_count_agg\n",
    "topic_weights_df['Year_Enacted'] = year_enacted"
   ]
  },
  {
   "cell_type": "code",
   "execution_count": 187,
   "metadata": {},
   "outputs": [
    {
     "data": {
      "text/plain": [
       "Index(['Topic1_Adj', 'Topic2_Adj', 'Topic3_Adj', 'Topic4_Adj', 'Topic5_Adj',\n",
       "       'Topic6_Adj', 'Topic7_Adj', 'Topic8_Adj', 'Topic9_Adj', 'Topic10_Adj',\n",
       "       'Total', 'Total_Clauses', 'Year_Enacted'],\n",
       "      dtype='object')"
      ]
     },
     "execution_count": 187,
     "metadata": {},
     "output_type": "execute_result"
    }
   ],
   "source": [
    "topic_weights_df.columns"
   ]
  },
  {
   "cell_type": "code",
   "execution_count": 188,
   "metadata": {},
   "outputs": [],
   "source": [
    "#distance only dataframe\n",
    "country_vectors_only  = topic_weights_df.drop(['Total','Total_Clauses',\n",
    "                                                          'Year_Enacted'],axis=1,inplace=False)"
   ]
  },
  {
   "cell_type": "code",
   "execution_count": 189,
   "metadata": {},
   "outputs": [
    {
     "data": {
      "text/html": [
       "<div>\n",
       "<style scoped>\n",
       "    .dataframe tbody tr th:only-of-type {\n",
       "        vertical-align: middle;\n",
       "    }\n",
       "\n",
       "    .dataframe tbody tr th {\n",
       "        vertical-align: top;\n",
       "    }\n",
       "\n",
       "    .dataframe thead th {\n",
       "        text-align: right;\n",
       "    }\n",
       "</style>\n",
       "<table border=\"1\" class=\"dataframe\">\n",
       "  <thead>\n",
       "    <tr style=\"text-align: right;\">\n",
       "      <th></th>\n",
       "      <th>Topic1_Adj</th>\n",
       "      <th>Topic2_Adj</th>\n",
       "      <th>Topic3_Adj</th>\n",
       "      <th>Topic4_Adj</th>\n",
       "      <th>Topic5_Adj</th>\n",
       "      <th>Topic6_Adj</th>\n",
       "      <th>Topic7_Adj</th>\n",
       "      <th>Topic8_Adj</th>\n",
       "      <th>Topic9_Adj</th>\n",
       "      <th>Topic10_Adj</th>\n",
       "    </tr>\n",
       "    <tr>\n",
       "      <th>Country</th>\n",
       "      <th></th>\n",
       "      <th></th>\n",
       "      <th></th>\n",
       "      <th></th>\n",
       "      <th></th>\n",
       "      <th></th>\n",
       "      <th></th>\n",
       "      <th></th>\n",
       "      <th></th>\n",
       "      <th></th>\n",
       "    </tr>\n",
       "  </thead>\n",
       "  <tbody>\n",
       "    <tr>\n",
       "      <th>Afghanistan_2004</th>\n",
       "      <td>0.140383</td>\n",
       "      <td>0.050197</td>\n",
       "      <td>0.284405</td>\n",
       "      <td>0.082206</td>\n",
       "      <td>0.027540</td>\n",
       "      <td>0.079840</td>\n",
       "      <td>0.133848</td>\n",
       "      <td>0.068758</td>\n",
       "      <td>0.021134</td>\n",
       "      <td>0.111689</td>\n",
       "    </tr>\n",
       "    <tr>\n",
       "      <th>Albania_2016</th>\n",
       "      <td>0.100743</td>\n",
       "      <td>0.093789</td>\n",
       "      <td>0.253215</td>\n",
       "      <td>0.116095</td>\n",
       "      <td>0.039813</td>\n",
       "      <td>0.102224</td>\n",
       "      <td>0.077582</td>\n",
       "      <td>0.089185</td>\n",
       "      <td>0.049273</td>\n",
       "      <td>0.078081</td>\n",
       "    </tr>\n",
       "    <tr>\n",
       "      <th>Algeria_2016</th>\n",
       "      <td>0.131723</td>\n",
       "      <td>0.061224</td>\n",
       "      <td>0.272318</td>\n",
       "      <td>0.043503</td>\n",
       "      <td>0.026486</td>\n",
       "      <td>0.099432</td>\n",
       "      <td>0.134245</td>\n",
       "      <td>0.113643</td>\n",
       "      <td>0.040101</td>\n",
       "      <td>0.077326</td>\n",
       "    </tr>\n",
       "    <tr>\n",
       "      <th>Andorra_1993</th>\n",
       "      <td>0.106999</td>\n",
       "      <td>0.124896</td>\n",
       "      <td>0.284349</td>\n",
       "      <td>0.071961</td>\n",
       "      <td>0.042784</td>\n",
       "      <td>0.126623</td>\n",
       "      <td>0.051323</td>\n",
       "      <td>0.029755</td>\n",
       "      <td>0.046218</td>\n",
       "      <td>0.115092</td>\n",
       "    </tr>\n",
       "    <tr>\n",
       "      <th>Angola_2010</th>\n",
       "      <td>0.071346</td>\n",
       "      <td>0.084193</td>\n",
       "      <td>0.263290</td>\n",
       "      <td>0.056096</td>\n",
       "      <td>0.104123</td>\n",
       "      <td>0.109279</td>\n",
       "      <td>0.109192</td>\n",
       "      <td>0.087208</td>\n",
       "      <td>0.043068</td>\n",
       "      <td>0.072205</td>\n",
       "    </tr>\n",
       "  </tbody>\n",
       "</table>\n",
       "</div>"
      ],
      "text/plain": [
       "                  Topic1_Adj  Topic2_Adj  Topic3_Adj  Topic4_Adj  Topic5_Adj  \\\n",
       "Country                                                                        \n",
       "Afghanistan_2004    0.140383    0.050197    0.284405    0.082206    0.027540   \n",
       "Albania_2016        0.100743    0.093789    0.253215    0.116095    0.039813   \n",
       "Algeria_2016        0.131723    0.061224    0.272318    0.043503    0.026486   \n",
       "Andorra_1993        0.106999    0.124896    0.284349    0.071961    0.042784   \n",
       "Angola_2010         0.071346    0.084193    0.263290    0.056096    0.104123   \n",
       "\n",
       "                  Topic6_Adj  Topic7_Adj  Topic8_Adj  Topic9_Adj  Topic10_Adj  \n",
       "Country                                                                        \n",
       "Afghanistan_2004    0.079840    0.133848    0.068758    0.021134     0.111689  \n",
       "Albania_2016        0.102224    0.077582    0.089185    0.049273     0.078081  \n",
       "Algeria_2016        0.099432    0.134245    0.113643    0.040101     0.077326  \n",
       "Andorra_1993        0.126623    0.051323    0.029755    0.046218     0.115092  \n",
       "Angola_2010         0.109279    0.109192    0.087208    0.043068     0.072205  "
      ]
     },
     "execution_count": 189,
     "metadata": {},
     "output_type": "execute_result"
    }
   ],
   "source": [
    "country_vectors_only.head()"
   ]
  },
  {
   "cell_type": "code",
   "execution_count": 190,
   "metadata": {},
   "outputs": [
    {
     "data": {
      "text/html": [
       "<div>\n",
       "<style scoped>\n",
       "    .dataframe tbody tr th:only-of-type {\n",
       "        vertical-align: middle;\n",
       "    }\n",
       "\n",
       "    .dataframe tbody tr th {\n",
       "        vertical-align: top;\n",
       "    }\n",
       "\n",
       "    .dataframe thead th {\n",
       "        text-align: right;\n",
       "    }\n",
       "</style>\n",
       "<table border=\"1\" class=\"dataframe\">\n",
       "  <thead>\n",
       "    <tr style=\"text-align: right;\">\n",
       "      <th></th>\n",
       "      <th>Topic1_Adj</th>\n",
       "      <th>Topic2_Adj</th>\n",
       "      <th>Topic3_Adj</th>\n",
       "      <th>Topic4_Adj</th>\n",
       "      <th>Topic5_Adj</th>\n",
       "      <th>Topic6_Adj</th>\n",
       "      <th>Topic7_Adj</th>\n",
       "      <th>Topic8_Adj</th>\n",
       "      <th>Topic9_Adj</th>\n",
       "      <th>Topic10_Adj</th>\n",
       "      <th>Total</th>\n",
       "      <th>Total_Clauses</th>\n",
       "      <th>Year_Enacted</th>\n",
       "    </tr>\n",
       "    <tr>\n",
       "      <th>Country</th>\n",
       "      <th></th>\n",
       "      <th></th>\n",
       "      <th></th>\n",
       "      <th></th>\n",
       "      <th></th>\n",
       "      <th></th>\n",
       "      <th></th>\n",
       "      <th></th>\n",
       "      <th></th>\n",
       "      <th></th>\n",
       "      <th></th>\n",
       "      <th></th>\n",
       "      <th></th>\n",
       "    </tr>\n",
       "  </thead>\n",
       "  <tbody>\n",
       "    <tr>\n",
       "      <th>Iceland_2011D</th>\n",
       "      <td>0.134911</td>\n",
       "      <td>0.094307</td>\n",
       "      <td>0.246080</td>\n",
       "      <td>0.045019</td>\n",
       "      <td>0.185750</td>\n",
       "      <td>0.107588</td>\n",
       "      <td>0.041597</td>\n",
       "      <td>0.043736</td>\n",
       "      <td>0.052027</td>\n",
       "      <td>0.048985</td>\n",
       "      <td>1.0</td>\n",
       "      <td>339</td>\n",
       "      <td>NaN</td>\n",
       "    </tr>\n",
       "    <tr>\n",
       "      <th>Libya_2016D</th>\n",
       "      <td>0.111994</td>\n",
       "      <td>0.042384</td>\n",
       "      <td>0.275643</td>\n",
       "      <td>0.042820</td>\n",
       "      <td>0.228717</td>\n",
       "      <td>0.083386</td>\n",
       "      <td>0.046975</td>\n",
       "      <td>0.075979</td>\n",
       "      <td>0.030800</td>\n",
       "      <td>0.061302</td>\n",
       "      <td>1.0</td>\n",
       "      <td>558</td>\n",
       "      <td>NaN</td>\n",
       "    </tr>\n",
       "    <tr>\n",
       "      <th>Syria_2017D</th>\n",
       "      <td>0.106918</td>\n",
       "      <td>0.061578</td>\n",
       "      <td>0.324596</td>\n",
       "      <td>0.055571</td>\n",
       "      <td>0.007019</td>\n",
       "      <td>0.101326</td>\n",
       "      <td>0.124661</td>\n",
       "      <td>0.128197</td>\n",
       "      <td>0.031455</td>\n",
       "      <td>0.058678</td>\n",
       "      <td>1.0</td>\n",
       "      <td>299</td>\n",
       "      <td>NaN</td>\n",
       "    </tr>\n",
       "    <tr>\n",
       "      <th>Yemen_2015D</th>\n",
       "      <td>0.121161</td>\n",
       "      <td>0.073478</td>\n",
       "      <td>0.353881</td>\n",
       "      <td>0.047206</td>\n",
       "      <td>0.029377</td>\n",
       "      <td>0.109267</td>\n",
       "      <td>0.079167</td>\n",
       "      <td>0.045600</td>\n",
       "      <td>0.061695</td>\n",
       "      <td>0.079167</td>\n",
       "      <td>1.0</td>\n",
       "      <td>897</td>\n",
       "      <td>NaN</td>\n",
       "    </tr>\n",
       "  </tbody>\n",
       "</table>\n",
       "</div>"
      ],
      "text/plain": [
       "               Topic1_Adj  Topic2_Adj  Topic3_Adj  Topic4_Adj  Topic5_Adj  \\\n",
       "Country                                                                     \n",
       "Iceland_2011D    0.134911    0.094307    0.246080    0.045019    0.185750   \n",
       "Libya_2016D      0.111994    0.042384    0.275643    0.042820    0.228717   \n",
       "Syria_2017D      0.106918    0.061578    0.324596    0.055571    0.007019   \n",
       "Yemen_2015D      0.121161    0.073478    0.353881    0.047206    0.029377   \n",
       "\n",
       "               Topic6_Adj  Topic7_Adj  Topic8_Adj  Topic9_Adj  Topic10_Adj  \\\n",
       "Country                                                                      \n",
       "Iceland_2011D    0.107588    0.041597    0.043736    0.052027     0.048985   \n",
       "Libya_2016D      0.083386    0.046975    0.075979    0.030800     0.061302   \n",
       "Syria_2017D      0.101326    0.124661    0.128197    0.031455     0.058678   \n",
       "Yemen_2015D      0.109267    0.079167    0.045600    0.061695     0.079167   \n",
       "\n",
       "               Total  Total_Clauses Year_Enacted  \n",
       "Country                                           \n",
       "Iceland_2011D    1.0            339          NaN  \n",
       "Libya_2016D      1.0            558          NaN  \n",
       "Syria_2017D      1.0            299          NaN  \n",
       "Yemen_2015D      1.0            897          NaN  "
      ]
     },
     "execution_count": 190,
     "metadata": {},
     "output_type": "execute_result"
    }
   ],
   "source": [
    "topic_weights_df[pd.isnull(topic_weights_df.Year_Enacted)]"
   ]
  },
  {
   "cell_type": "code",
   "execution_count": 191,
   "metadata": {},
   "outputs": [],
   "source": [
    "topic_weights_df.loc['Iceland_2011D', 'Year_Enacted'] = 2011\n",
    "topic_weights_df.loc['Libya_2016D', 'Year_Enacted'] = 2016\n",
    "topic_weights_df.loc['Syria_2017D', 'Year_Enacted'] = 2017\n",
    "topic_weights_df.loc['Yemen_2015D', 'Year_Enacted'] = 2015"
   ]
  },
  {
   "cell_type": "code",
   "execution_count": 255,
   "metadata": {},
   "outputs": [
    {
     "name": "stderr",
     "output_type": "stream",
     "text": [
      "/Users/whetfield/anaconda3/lib/python3.6/site-packages/ipykernel_launcher.py:7: FutureWarning: reshape is deprecated and will raise in a subsequent release. Please use .values.reshape(...) instead\n",
      "  import sys\n"
     ]
    }
   ],
   "source": [
    "nearest_constitution_list = []\n",
    "cosine_similarity_value = []\n",
    "nearest_constitution_year_enacted_list = []\n",
    "all_closest_constitutions_list_of_list =[]\n",
    "\n",
    "for country in country_vectors_only.index.values:\n",
    "    distance_array = cosine_similarity(country_vectors_only.loc[country].reshape(1,-1), \n",
    "                                    country_vectors_only ) \n",
    "    \n",
    "    \n",
    "    descending_indices = (-distance_array).argsort()\n",
    "    country_list = []\n",
    "    \n",
    "    for index in descending_indices[0, :]:\n",
    "        country_list.append(country_vectors_only.iloc[index].name)\n",
    "        \n",
    "    \n",
    "    all_closest_constitutions_list_of_list.append(country_list)\n",
    "    \n",
    "    \n",
    "    array_list = list(distance_array[0, ])\n",
    "    \n",
    "    #Make a copy which the largest value won't be removed from\n",
    "    #Largest value will be similarity with self\n",
    "    copy_array_list = deepcopy(array_list)\n",
    "    \n",
    "    \n",
    "    max_similarity = max(array_list)\n",
    "    \n",
    "    array_list.remove(max_similarity)\n",
    "    \n",
    "    second_largest = max(array_list)\n",
    "    \n",
    "    cosine_similarity_value.append(second_largest)\n",
    "    \n",
    "    index_of_second_largest = copy_array_list.index(second_largest)\n",
    "    \n",
    "    nearest_country = country_vectors_only.index.values[index_of_second_largest]\n",
    "    \n",
    "    nearest_constitution_list.append(nearest_country)\n",
    "    \n",
    "    nearest_constitution_year_enacted_list.append(int(topic_weights_df.loc[nearest_country,'Year_Enacted']))\n",
    "    \n",
    "    \n",
    "    \n",
    "    "
   ]
  },
  {
   "cell_type": "code",
   "execution_count": 259,
   "metadata": {},
   "outputs": [
    {
     "data": {
      "text/plain": [
       "206"
      ]
     },
     "execution_count": 259,
     "metadata": {},
     "output_type": "execute_result"
    }
   ],
   "source": [
    "len(all_closest_constitutions_list_of_list)"
   ]
  },
  {
   "cell_type": "code",
   "execution_count": 245,
   "metadata": {},
   "outputs": [
    {
     "data": {
      "text/plain": [
       "'Costa_Rica_2011'"
      ]
     },
     "execution_count": 245,
     "metadata": {},
     "output_type": "execute_result"
    }
   ],
   "source": [
    "country_vectors_only.iloc[40].name"
   ]
  },
  {
   "cell_type": "code",
   "execution_count": null,
   "metadata": {},
   "outputs": [],
   "source": []
  },
  {
   "cell_type": "code",
   "execution_count": 247,
   "metadata": {},
   "outputs": [
    {
     "data": {
      "text/plain": [
       "(1, 206)"
      ]
     },
     "execution_count": 247,
     "metadata": {},
     "output_type": "execute_result"
    }
   ],
   "source": [
    "descending_indices.shape"
   ]
  },
  {
   "cell_type": "code",
   "execution_count": 254,
   "metadata": {},
   "outputs": [
    {
     "name": "stdout",
     "output_type": "stream",
     "text": [
      "Afghanistan_2004\n",
      "Bulgaria_2015\n",
      "Micronesia_1990\n",
      "Palau_1992\n",
      "Algeria_2016\n",
      "Comoros_2009\n",
      "Monaco_2002\n",
      "Republic_of_Korea_1987\n",
      "Turkey_2011\n",
      "Burkina_Faso_2012\n",
      "Libya_2012\n",
      "Mali_1992\n",
      "Tunisia_2014\n",
      "Morocco_2011\n",
      "Taiwan_2005\n",
      "Haiti_2012\n",
      "South_Sudan_2013\n",
      "Syria_2017D\n",
      "Austria_2013\n",
      "Honduras_2013\n",
      "Colombia_2015\n",
      "Surinam_1992\n",
      "Bahrain_2012\n",
      "Hungary_2016\n",
      "Peoples_Republic_of_Korea_1998\n",
      "Costa_Rica_2011\n",
      "Argentina_1994\n",
      "Sudan_2005\n",
      "Albania_2016\n",
      "Yemen_2015D\n",
      "Syria_2012\n",
      "Central_African_Republic_2013\n",
      "Panama_2004\n",
      "Madagascar_2010\n",
      "Iran_1989\n",
      "Mexico_2015\n",
      "Kuwait_1992\n",
      "Nicaragua_2014\n",
      "Iraq_2005\n",
      "Venezuela_2009\n",
      "Peru_2009\n",
      "Benin_1990\n",
      "Bosnia_Herzegovina_2009\n",
      "Georgia_2013\n",
      "El_Salvador_2014\n",
      "Liechtenstein_2011\n",
      "Niger_2010\n",
      "Democratic_Republic_of_the_Congo_2011\n",
      "Philippines_1987\n",
      "Qatar_2003\n",
      "Brazil_2017\n",
      "Ukraine_2014\n",
      "France_2008\n",
      "United_Arab_Emirates_2009\n",
      "Yemen_2015\n",
      "Indonesia_2002\n",
      "Angola_2010\n",
      "Kyrgyz_Republic_2010\n",
      "Mongolia_2001\n",
      "Spain_2011\n",
      "Myanmar_2008\n",
      "Tajikistan_2003\n",
      "Ecuador_2015\n",
      "Switzerland_2014\n",
      "Andorra_1993\n",
      "Gabon_2011\n",
      "Italy_2012\n",
      "Cameroon_2008\n",
      "Guinea_Bissau_1996\n",
      "Luxembourg_2009\n",
      "Uruguay_2004\n",
      "Chile_2015\n",
      "Greece_2008\n",
      "Nepal_2016\n",
      "Ireland_2015\n",
      "Estonia_2015\n",
      "Ethiopia_1994\n",
      "Norway_2016\n",
      "Bhutan_2008\n",
      "China_2004\n",
      "East_Timor_2002\n",
      "Cuba_2002\n",
      "Cape_Verde_1992\n",
      "Serbia_2006\n",
      "Cambodia_2008\n",
      "Saudi_Arabia_2013\n",
      "Chad_2005\n",
      "Portugal_2005\n",
      "Bolivia_2009\n",
      "Thailand_2007\n",
      "Togo_2007\n",
      "Israel_2013\n",
      "Mauritania_2012\n",
      "Thailand_2017\n",
      "Mozambique_2007\n",
      "Burundi_2005\n",
      "Central_African_Republic_2010\n",
      "Croatia_2013\n",
      "Congo_2001\n",
      "Japan_1946\n",
      "Oman_2011\n",
      "Poland_2009\n",
      "Senegal_2009\n",
      "Montenegro_2013\n",
      "Czech_Republic_2013\n",
      "Jordan_2016\n",
      "Belarus_2004\n",
      "Guinea_2010\n",
      "Lithuania_2006\n",
      "Russia_2014\n",
      "Turkmenistan_2008\n",
      "Cote_DIvoire_2000\n",
      "Slovakia_2014\n",
      "Latvia_2016\n",
      "United_States_of_America_1992\n",
      "Moldova_2016\n",
      "Dominican_Republic_2015\n",
      "Cote_DIvoire_2016\n",
      "Eritrea_1997\n",
      "Djibouti_2010\n",
      "Equatorial_Guinea_2012\n",
      "Iceland_2013\n",
      "Somalia_2012\n",
      "Lebanon_2004\n",
      "Tonga_1988\n",
      "Netherlands_2008\n",
      "Romania_2003\n",
      "Socialist_Republic_of_Vietnam_2013\n",
      "Egypt_2014\n",
      "Nepal_2012\n",
      "Belgium_2014\n",
      "Dominican_Republic_2010\n",
      "Australia_1985\n",
      "Laos_2003\n",
      "Pakistan_2015\n",
      "Sweden_2012\n",
      "Sao_Tome_and_Principe_1990\n",
      "Armenia_2015\n",
      "Kosovo_2016\n",
      "Liberia_1986\n",
      "Slovenia_2013\n",
      "Rwanda_2015\n",
      "Kazakhstan_2011\n",
      "India_2016\n",
      "Kenya_2010\n",
      "Papua_New_Guinea_2014\n",
      "Uganda_2005\n",
      "Egypt_2012\n",
      "Nigeria_2011\n",
      "Iceland_2011D\n",
      "Maldives_2008\n",
      "Denmark_1953\n",
      "South_Africa_2012\n",
      "Macedonia_2011\n",
      "Libya_2016D\n",
      "Ghana_1996\n",
      "Finland_2011\n",
      "Guatemala_1993\n",
      "Malaysia_2007\n",
      "Bangladesh_2014\n",
      "Namibia_2014\n",
      "Zimbabwe_2013\n",
      "Vanuatu_1983\n",
      "Malawi_1999\n",
      "German_Federal_Republic_2014\n",
      "Gambia_2004\n",
      "Tunisia_2008\n",
      "Thailand_2014\n",
      "Tanzania_1995\n",
      "Sri_Lanka_2015\n",
      "Uzbekistan_2011\n",
      "Samoa_2013\n",
      "Paraguay_2011\n",
      "Canada_2011\n",
      "Seychelles_2017\n",
      "Nauru_2015\n",
      "Swaziland_2005\n",
      "Cyprus_2013\n",
      "Guyana_2016\n",
      "Fiji_2013\n",
      "Sierra_Leone_2008\n",
      "Zambia_2009\n",
      "Azerbaijan_2016\n",
      "Botswana_2005\n",
      "Lesotho_2011\n",
      "Tuvalu_1986\n",
      "Malta_2016\n",
      "Marshall_Islands_1995\n",
      "Brunei_2006\n",
      "United_Kingdom_2013\n",
      "St_Kitts_and_Nevis_1983\n",
      "Singapore_2010\n",
      "Belize_2011\n",
      "Kiribati_2013\n",
      "Mauritius_2016\n",
      "Solomon_Islands_2014\n",
      "Trinidad_and_Tobago_2007\n",
      "Dominica_2014\n",
      "Antigua_and_Barbuda_1981\n",
      "Grenada_1992\n",
      "Bahamas_1973\n",
      "Jamaica_2015\n",
      "St_Vincent_and_the_Grenadines_1979\n",
      "New_Zealand_2014\n",
      "Barbados_2007\n",
      "St_Lucia_1978\n"
     ]
    }
   ],
   "source": [
    "for index in descending_indices[0,:]:\n",
    "    print(country_vectors_only.iloc[index].name)\n",
    "    "
   ]
  },
  {
   "cell_type": "code",
   "execution_count": 236,
   "metadata": {},
   "outputs": [
    {
     "name": "stderr",
     "output_type": "stream",
     "text": [
      "/Users/whetfield/anaconda3/lib/python3.6/site-packages/ipykernel_launcher.py:1: FutureWarning: reshape is deprecated and will raise in a subsequent release. Please use .values.reshape(...) instead\n",
      "  \"\"\"Entry point for launching an IPython kernel.\n"
     ]
    },
    {
     "data": {
      "text/plain": [
       "(1, 206)"
      ]
     },
     "execution_count": 236,
     "metadata": {},
     "output_type": "execute_result"
    }
   ],
   "source": [
    "cosine_similarity(country_vectors_only.loc['St_Kitts_and_Nevis_1983'].reshape(1,-1), \n",
    "                                    country_vectors_only ).argsort().shape"
   ]
  },
  {
   "cell_type": "code",
   "execution_count": 232,
   "metadata": {},
   "outputs": [
    {
     "name": "stderr",
     "output_type": "stream",
     "text": [
      "/Users/whetfield/anaconda3/lib/python3.6/site-packages/ipykernel_launcher.py:1: FutureWarning: reshape is deprecated and will raise in a subsequent release. Please use .values.reshape(...) instead\n",
      "  \"\"\"Entry point for launching an IPython kernel.\n"
     ]
    },
    {
     "data": {
      "text/plain": [
       "1"
      ]
     },
     "execution_count": 232,
     "metadata": {},
     "output_type": "execute_result"
    }
   ],
   "source": [
    "(-cosine_similarity(country_vectors_only.loc['St_Kitts_and_Nevis_1983'].reshape(1,-1), \n",
    "                                    country_vectors_only)).argsort()"
   ]
  },
  {
   "cell_type": "code",
   "execution_count": 231,
   "metadata": {},
   "outputs": [
    {
     "data": {
      "text/plain": [
       "Topic1_Adj     0.127683\n",
       "Topic2_Adj     0.192721\n",
       "Topic3_Adj     0.115325\n",
       "Topic4_Adj     0.054608\n",
       "Topic5_Adj     0.007102\n",
       "Topic6_Adj     0.043303\n",
       "Topic7_Adj     0.074181\n",
       "Topic8_Adj     0.012022\n",
       "Topic9_Adj     0.235918\n",
       "Topic10_Adj    0.137138\n",
       "Name: St_Kitts_and_Nevis_1983, dtype: float64"
      ]
     },
     "execution_count": 231,
     "metadata": {},
     "output_type": "execute_result"
    }
   ],
   "source": [
    "country_vectors_only.loc['St_Kitts_and_Nevis_1983']"
   ]
  },
  {
   "cell_type": "code",
   "execution_count": 193,
   "metadata": {},
   "outputs": [
    {
     "data": {
      "text/plain": [
       "2006"
      ]
     },
     "execution_count": 193,
     "metadata": {},
     "output_type": "execute_result"
    }
   ],
   "source": [
    "nearest_constitution_year_enacted_list[4]"
   ]
  },
  {
   "cell_type": "code",
   "execution_count": 233,
   "metadata": {},
   "outputs": [
    {
     "data": {
      "text/plain": [
       "206"
      ]
     },
     "execution_count": 233,
     "metadata": {},
     "output_type": "execute_result"
    }
   ],
   "source": [
    "len([ 10, 199, 150,  68, 103, 162,  36, 153,  91,   7, 188,  97,  15,\n",
    "        121, 105, 161,  82,  58, 142,  44,  55, 178, 119,  96, 107, 141,\n",
    "         94,  56,  43, 122, 124, 180,  20, 148,  29, 191,  60, 156, 177,\n",
    "        189,  53, 179, 112,  67,  18,  31,  52,  41, 146,  74,  72, 173,\n",
    "        102,  79,  28, 149, 151,  39,  27,  51,  61, 160,  49,  73,   0,\n",
    "          4, 202, 115,  42,   2, 155,  34,  87, 203,  95, 172, 154,  65,\n",
    "         98, 194,  16,  25,  46, 133,  32, 176, 185,  99, 132, 108, 106,\n",
    "         59,  84,   9, 104, 197, 145, 118,  23, 136,  54, 201,  57,  38,\n",
    "          1, 190, 164,  80,  77, 123,  26,  47, 139,  33,  78,  35, 166,\n",
    "        135, 147, 117, 167,  21,  83,  70,   3, 120, 138, 183, 143, 144,\n",
    "         64, 125,  40,  63,  76,  12, 130,   6,  89,  37,  86, 195,  45,\n",
    "        126,  85,  90, 198,   8, 101,  19,  48, 175, 182, 200, 129, 165,\n",
    "        181, 184,  81, 111, 110, 137,  30, 186, 127, 193,  92, 114, 204,\n",
    "         13, 128, 168, 140,  69, 113,  66, 134, 159, 131, 205, 157, 196,\n",
    "         62,  11, 152, 109, 187, 192, 158,  88,  75,  50,  24, 170,  71,\n",
    "          5, 174,  93,  22, 171, 163,  17,  14, 116, 100, 169])"
   ]
  },
  {
   "cell_type": "code",
   "execution_count": 194,
   "metadata": {
    "scrolled": true
   },
   "outputs": [
    {
     "data": {
      "text/plain": [
       "Counter({'Albania_2016': 2,\n",
       "         'Algeria_2016': 2,\n",
       "         'Andorra_1993': 1,\n",
       "         'Antigua_and_Barbuda_1981': 5,\n",
       "         'Armenia_2015': 1,\n",
       "         'Austria_2013': 1,\n",
       "         'Bahrain_2012': 1,\n",
       "         'Bangladesh_2014': 1,\n",
       "         'Belarus_2004': 3,\n",
       "         'Belgium_2014': 1,\n",
       "         'Belize_2011': 1,\n",
       "         'Benin_1990': 1,\n",
       "         'Bhutan_2008': 2,\n",
       "         'Bolivia_2009': 1,\n",
       "         'Brazil_2017': 2,\n",
       "         'Bulgaria_2015': 5,\n",
       "         'Burkina_Faso_2012': 1,\n",
       "         'Burundi_2005': 1,\n",
       "         'Cameroon_2008': 1,\n",
       "         'Canada_2011': 1,\n",
       "         'Central_African_Republic_2010': 1,\n",
       "         'China_2004': 1,\n",
       "         'Colombia_2015': 2,\n",
       "         'Comoros_2009': 3,\n",
       "         'Congo_2001': 1,\n",
       "         'Costa_Rica_2011': 1,\n",
       "         'Croatia_2013': 2,\n",
       "         'Cuba_2002': 1,\n",
       "         'Democratic_Republic_of_the_Congo_2011': 2,\n",
       "         'Djibouti_2010': 1,\n",
       "         'Dominican_Republic_2010': 1,\n",
       "         'Dominican_Republic_2015': 1,\n",
       "         'East_Timor_2002': 2,\n",
       "         'Ecuador_2015': 3,\n",
       "         'Egypt_2012': 3,\n",
       "         'Egypt_2014': 4,\n",
       "         'El_Salvador_2014': 1,\n",
       "         'Estonia_2015': 1,\n",
       "         'Ethiopia_1994': 1,\n",
       "         'Gabon_2011': 2,\n",
       "         'Gambia_2004': 1,\n",
       "         'Ghana_1996': 4,\n",
       "         'Greece_2008': 1,\n",
       "         'Grenada_1992': 2,\n",
       "         'Guatemala_1993': 1,\n",
       "         'Guinea_Bissau_1996': 1,\n",
       "         'Hungary_2016': 3,\n",
       "         'Iceland_2013': 1,\n",
       "         'India_2016': 2,\n",
       "         'Iran_1989': 2,\n",
       "         'Iraq_2005': 1,\n",
       "         'Ireland_2015': 1,\n",
       "         'Italy_2012': 2,\n",
       "         'Japan_1946': 1,\n",
       "         'Jordan_2016': 3,\n",
       "         'Kazakhstan_2011': 1,\n",
       "         'Kiribati_2013': 2,\n",
       "         'Kosovo_2016': 1,\n",
       "         'Laos_2003': 1,\n",
       "         'Lebanon_2004': 1,\n",
       "         'Lesotho_2011': 2,\n",
       "         'Libya_2012': 1,\n",
       "         'Libya_2016D': 1,\n",
       "         'Liechtenstein_2011': 1,\n",
       "         'Lithuania_2006': 1,\n",
       "         'Luxembourg_2009': 2,\n",
       "         'Malawi_1999': 2,\n",
       "         'Malaysia_2007': 1,\n",
       "         'Mali_1992': 1,\n",
       "         'Malta_2016': 3,\n",
       "         'Mauritania_2012': 2,\n",
       "         'Mauritius_2016': 1,\n",
       "         'Mexico_2015': 2,\n",
       "         'Micronesia_1990': 1,\n",
       "         'Mongolia_2001': 1,\n",
       "         'Morocco_2011': 2,\n",
       "         'Myanmar_2008': 2,\n",
       "         'Nepal_2012': 1,\n",
       "         'Nepal_2016': 3,\n",
       "         'Niger_2010': 1,\n",
       "         'Nigeria_2011': 2,\n",
       "         'Norway_2016': 1,\n",
       "         'Oman_2011': 1,\n",
       "         'Panama_2004': 2,\n",
       "         'Paraguay_2011': 1,\n",
       "         'Peru_2009': 2,\n",
       "         'Philippines_1987': 1,\n",
       "         'Portugal_2005': 1,\n",
       "         'Republic_of_Korea_1987': 3,\n",
       "         'Russia_2014': 1,\n",
       "         'Rwanda_2015': 1,\n",
       "         'Sao_Tome_and_Principe_1990': 1,\n",
       "         'Saudi_Arabia_2013': 1,\n",
       "         'Senegal_2009': 2,\n",
       "         'Serbia_2006': 4,\n",
       "         'Seychelles_2017': 3,\n",
       "         'Sierra_Leone_2008': 1,\n",
       "         'Singapore_2010': 2,\n",
       "         'Slovakia_2014': 5,\n",
       "         'Slovenia_2013': 2,\n",
       "         'Socialist_Republic_of_Vietnam_2013': 1,\n",
       "         'Solomon_Islands_2014': 2,\n",
       "         'Somalia_2012': 1,\n",
       "         'South_Africa_2012': 1,\n",
       "         'South_Sudan_2013': 4,\n",
       "         'Spain_2011': 1,\n",
       "         'Sri_Lanka_2015': 1,\n",
       "         'St_Kitts_and_Nevis_1983': 1,\n",
       "         'St_Lucia_1978': 1,\n",
       "         'St_Vincent_and_the_Grenadines_1979': 1,\n",
       "         'Surinam_1992': 2,\n",
       "         'Swaziland_2005': 2,\n",
       "         'Syria_2012': 1,\n",
       "         'Tajikistan_2003': 2,\n",
       "         'Tanzania_1995': 1,\n",
       "         'Thailand_2007': 1,\n",
       "         'Thailand_2017': 1,\n",
       "         'Togo_2007': 2,\n",
       "         'Tonga_1988': 2,\n",
       "         'Tunisia_2014': 2,\n",
       "         'Turkey_2011': 1,\n",
       "         'Tuvalu_1986': 2,\n",
       "         'Uganda_2005': 1,\n",
       "         'Ukraine_2014': 1,\n",
       "         'United_Arab_Emirates_2009': 1,\n",
       "         'Zambia_2009': 1,\n",
       "         'Zimbabwe_2013': 1})"
      ]
     },
     "execution_count": 194,
     "metadata": {},
     "output_type": "execute_result"
    }
   ],
   "source": [
    "from collections import Counter\n",
    "Counter(nearest_constitution_list)"
   ]
  },
  {
   "cell_type": "code",
   "execution_count": 195,
   "metadata": {},
   "outputs": [
    {
     "data": {
      "text/plain": [
       "206"
      ]
     },
     "execution_count": 195,
     "metadata": {},
     "output_type": "execute_result"
    }
   ],
   "source": [
    "len(nearest_constitution_list)"
   ]
  },
  {
   "cell_type": "code",
   "execution_count": 198,
   "metadata": {},
   "outputs": [],
   "source": [
    "topic_weights_df['Nearest_Constitution'] = nearest_constitution_list\n",
    "topic_weights_df['Similarity_Nearest'] = cosine_similarity_value\n",
    "topic_weights_df['Nearest_Year_Enacted']= nearest_constitution_year_enacted_list"
   ]
  },
  {
   "cell_type": "code",
   "execution_count": 205,
   "metadata": {},
   "outputs": [],
   "source": [
    "topic_weights_df['Years_to_Closest'] = abs(topic_weights_df.Year_Enacted.apply(int) - topic_weights_df.Nearest_Year_Enacted)"
   ]
  },
  {
   "cell_type": "code",
   "execution_count": 206,
   "metadata": {},
   "outputs": [
    {
     "data": {
      "text/html": [
       "<div>\n",
       "<style scoped>\n",
       "    .dataframe tbody tr th:only-of-type {\n",
       "        vertical-align: middle;\n",
       "    }\n",
       "\n",
       "    .dataframe tbody tr th {\n",
       "        vertical-align: top;\n",
       "    }\n",
       "\n",
       "    .dataframe thead th {\n",
       "        text-align: right;\n",
       "    }\n",
       "</style>\n",
       "<table border=\"1\" class=\"dataframe\">\n",
       "  <thead>\n",
       "    <tr style=\"text-align: right;\">\n",
       "      <th></th>\n",
       "      <th>Topic1_Adj</th>\n",
       "      <th>Topic2_Adj</th>\n",
       "      <th>Topic3_Adj</th>\n",
       "      <th>Topic4_Adj</th>\n",
       "      <th>Topic5_Adj</th>\n",
       "      <th>Topic6_Adj</th>\n",
       "      <th>Topic7_Adj</th>\n",
       "      <th>Topic8_Adj</th>\n",
       "      <th>Topic9_Adj</th>\n",
       "      <th>Topic10_Adj</th>\n",
       "      <th>Total</th>\n",
       "      <th>Total_Clauses</th>\n",
       "      <th>Year_Enacted</th>\n",
       "      <th>Nearest_Constitution</th>\n",
       "      <th>Similarity_Nearest</th>\n",
       "      <th>Nearest_Year_Enacted</th>\n",
       "      <th>Years_to_Closest</th>\n",
       "    </tr>\n",
       "    <tr>\n",
       "      <th>Country</th>\n",
       "      <th></th>\n",
       "      <th></th>\n",
       "      <th></th>\n",
       "      <th></th>\n",
       "      <th></th>\n",
       "      <th></th>\n",
       "      <th></th>\n",
       "      <th></th>\n",
       "      <th></th>\n",
       "      <th></th>\n",
       "      <th></th>\n",
       "      <th></th>\n",
       "      <th></th>\n",
       "      <th></th>\n",
       "      <th></th>\n",
       "      <th></th>\n",
       "      <th></th>\n",
       "    </tr>\n",
       "  </thead>\n",
       "  <tbody>\n",
       "    <tr>\n",
       "      <th>Afghanistan_2004</th>\n",
       "      <td>0.140383</td>\n",
       "      <td>0.050197</td>\n",
       "      <td>0.284405</td>\n",
       "      <td>0.082206</td>\n",
       "      <td>0.027540</td>\n",
       "      <td>0.079840</td>\n",
       "      <td>0.133848</td>\n",
       "      <td>0.068758</td>\n",
       "      <td>0.021134</td>\n",
       "      <td>0.111689</td>\n",
       "      <td>1.0</td>\n",
       "      <td>274</td>\n",
       "      <td>2004</td>\n",
       "      <td>Bulgaria_2015</td>\n",
       "      <td>0.982599</td>\n",
       "      <td>1991</td>\n",
       "      <td>13</td>\n",
       "    </tr>\n",
       "    <tr>\n",
       "      <th>Albania_2016</th>\n",
       "      <td>0.100743</td>\n",
       "      <td>0.093789</td>\n",
       "      <td>0.253215</td>\n",
       "      <td>0.116095</td>\n",
       "      <td>0.039813</td>\n",
       "      <td>0.102224</td>\n",
       "      <td>0.077582</td>\n",
       "      <td>0.089185</td>\n",
       "      <td>0.049273</td>\n",
       "      <td>0.078081</td>\n",
       "      <td>1.0</td>\n",
       "      <td>813</td>\n",
       "      <td>1998</td>\n",
       "      <td>Turkey_2011</td>\n",
       "      <td>0.987825</td>\n",
       "      <td>1982</td>\n",
       "      <td>16</td>\n",
       "    </tr>\n",
       "    <tr>\n",
       "      <th>Algeria_2016</th>\n",
       "      <td>0.131723</td>\n",
       "      <td>0.061224</td>\n",
       "      <td>0.272318</td>\n",
       "      <td>0.043503</td>\n",
       "      <td>0.026486</td>\n",
       "      <td>0.099432</td>\n",
       "      <td>0.134245</td>\n",
       "      <td>0.113643</td>\n",
       "      <td>0.040101</td>\n",
       "      <td>0.077326</td>\n",
       "      <td>1.0</td>\n",
       "      <td>640</td>\n",
       "      <td>1989</td>\n",
       "      <td>Bulgaria_2015</td>\n",
       "      <td>0.990302</td>\n",
       "      <td>1991</td>\n",
       "      <td>2</td>\n",
       "    </tr>\n",
       "    <tr>\n",
       "      <th>Andorra_1993</th>\n",
       "      <td>0.106999</td>\n",
       "      <td>0.124896</td>\n",
       "      <td>0.284349</td>\n",
       "      <td>0.071961</td>\n",
       "      <td>0.042784</td>\n",
       "      <td>0.126623</td>\n",
       "      <td>0.051323</td>\n",
       "      <td>0.029755</td>\n",
       "      <td>0.046218</td>\n",
       "      <td>0.115092</td>\n",
       "      <td>1.0</td>\n",
       "      <td>279</td>\n",
       "      <td>1993</td>\n",
       "      <td>Morocco_2011</td>\n",
       "      <td>0.989710</td>\n",
       "      <td>2011</td>\n",
       "      <td>18</td>\n",
       "    </tr>\n",
       "    <tr>\n",
       "      <th>Angola_2010</th>\n",
       "      <td>0.071346</td>\n",
       "      <td>0.084193</td>\n",
       "      <td>0.263290</td>\n",
       "      <td>0.056096</td>\n",
       "      <td>0.104123</td>\n",
       "      <td>0.109279</td>\n",
       "      <td>0.109192</td>\n",
       "      <td>0.087208</td>\n",
       "      <td>0.043068</td>\n",
       "      <td>0.072205</td>\n",
       "      <td>1.0</td>\n",
       "      <td>1213</td>\n",
       "      <td>2010</td>\n",
       "      <td>Serbia_2006</td>\n",
       "      <td>0.994601</td>\n",
       "      <td>2006</td>\n",
       "      <td>4</td>\n",
       "    </tr>\n",
       "  </tbody>\n",
       "</table>\n",
       "</div>"
      ],
      "text/plain": [
       "                  Topic1_Adj  Topic2_Adj  Topic3_Adj  Topic4_Adj  Topic5_Adj  \\\n",
       "Country                                                                        \n",
       "Afghanistan_2004    0.140383    0.050197    0.284405    0.082206    0.027540   \n",
       "Albania_2016        0.100743    0.093789    0.253215    0.116095    0.039813   \n",
       "Algeria_2016        0.131723    0.061224    0.272318    0.043503    0.026486   \n",
       "Andorra_1993        0.106999    0.124896    0.284349    0.071961    0.042784   \n",
       "Angola_2010         0.071346    0.084193    0.263290    0.056096    0.104123   \n",
       "\n",
       "                  Topic6_Adj  Topic7_Adj  Topic8_Adj  Topic9_Adj  Topic10_Adj  \\\n",
       "Country                                                                         \n",
       "Afghanistan_2004    0.079840    0.133848    0.068758    0.021134     0.111689   \n",
       "Albania_2016        0.102224    0.077582    0.089185    0.049273     0.078081   \n",
       "Algeria_2016        0.099432    0.134245    0.113643    0.040101     0.077326   \n",
       "Andorra_1993        0.126623    0.051323    0.029755    0.046218     0.115092   \n",
       "Angola_2010         0.109279    0.109192    0.087208    0.043068     0.072205   \n",
       "\n",
       "                  Total  Total_Clauses Year_Enacted Nearest_Constitution  \\\n",
       "Country                                                                    \n",
       "Afghanistan_2004    1.0            274         2004        Bulgaria_2015   \n",
       "Albania_2016        1.0            813         1998          Turkey_2011   \n",
       "Algeria_2016        1.0            640         1989        Bulgaria_2015   \n",
       "Andorra_1993        1.0            279         1993         Morocco_2011   \n",
       "Angola_2010         1.0           1213         2010          Serbia_2006   \n",
       "\n",
       "                  Similarity_Nearest  Nearest_Year_Enacted  Years_to_Closest  \n",
       "Country                                                                       \n",
       "Afghanistan_2004            0.982599                  1991                13  \n",
       "Albania_2016                0.987825                  1982                16  \n",
       "Algeria_2016                0.990302                  1991                 2  \n",
       "Andorra_1993                0.989710                  2011                18  \n",
       "Angola_2010                 0.994601                  2006                 4  "
      ]
     },
     "execution_count": 206,
     "metadata": {},
     "output_type": "execute_result"
    }
   ],
   "source": [
    "topic_weights_df.head()"
   ]
  },
  {
   "cell_type": "code",
   "execution_count": 204,
   "metadata": {},
   "outputs": [
    {
     "data": {
      "text/plain": [
       "Topic1_Adj                            0.122152\n",
       "Topic2_Adj                           0.0741652\n",
       "Topic3_Adj                             0.27349\n",
       "Topic4_Adj                           0.0715589\n",
       "Topic5_Adj                           0.0194763\n",
       "Topic6_Adj                           0.0807845\n",
       "Topic7_Adj                            0.160472\n",
       "Topic8_Adj                           0.0911655\n",
       "Topic9_Adj                           0.0434949\n",
       "Topic10_Adj                           0.063242\n",
       "Total                                        1\n",
       "Total_Clauses                              543\n",
       "Year_Enacted                              1991\n",
       "Nearest_Constitution    Republic_of_Korea_1987\n",
       "Similarity_Nearest                    0.993336\n",
       "Nearest_Year_Enacted                      1948\n",
       "Name: Bulgaria_2015, dtype: object"
      ]
     },
     "execution_count": 204,
     "metadata": {},
     "output_type": "execute_result"
    }
   ],
   "source": [
    "topic_weights_df.loc['Bulgaria_2015']"
   ]
  },
  {
   "cell_type": "code",
   "execution_count": 207,
   "metadata": {},
   "outputs": [],
   "source": [
    "#couple constitutuions of NaN in year enacted, may need to adjuist\n",
    "topic_weights_df.to_csv(\"Topic_Weights.csv\")"
   ]
  },
  {
   "cell_type": "code",
   "execution_count": 196,
   "metadata": {},
   "outputs": [
    {
     "data": {
      "text/plain": [
       "206"
      ]
     },
     "execution_count": 196,
     "metadata": {},
     "output_type": "execute_result"
    }
   ],
   "source": [
    "len(topic_weights_df.index)"
   ]
  },
  {
   "cell_type": "code",
   "execution_count": null,
   "metadata": {},
   "outputs": [],
   "source": [
    "#PCA of New Space"
   ]
  },
  {
   "cell_type": "code",
   "execution_count": 208,
   "metadata": {},
   "outputs": [
    {
     "data": {
      "text/plain": [
       "PCA(copy=True, iterated_power='auto', n_components=2, random_state=None,\n",
       "  svd_solver='auto', tol=0.0, whiten=False)"
      ]
     },
     "execution_count": 208,
     "metadata": {},
     "output_type": "execute_result"
    }
   ],
   "source": [
    "from sklearn.decomposition import PCA\n",
    "pca = PCA(n_components = 2)\n",
    "pca.fit(country_vectors_only)"
   ]
  },
  {
   "cell_type": "code",
   "execution_count": 210,
   "metadata": {},
   "outputs": [
    {
     "data": {
      "text/plain": [
       "array([[ 0.13479112,  0.33329836, -0.62384878,  0.0583734 , -0.05362527,\n",
       "        -0.18746167, -0.22787373, -0.22665888,  0.50233688,  0.29066858],\n",
       "       [ 0.30931152,  0.05920219,  0.58085623,  0.01397225,  0.04453807,\n",
       "        -0.08205735, -0.5120762 , -0.53379203,  0.06879323,  0.05125209]])"
      ]
     },
     "execution_count": 210,
     "metadata": {},
     "output_type": "execute_result"
    }
   ],
   "source": [
    "pca.components_"
   ]
  },
  {
   "cell_type": "code",
   "execution_count": 221,
   "metadata": {},
   "outputs": [
    {
     "data": {
      "text/plain": [
       "array([0.4872413 , 0.15336902])"
      ]
     },
     "execution_count": 221,
     "metadata": {},
     "output_type": "execute_result"
    }
   ],
   "source": [
    "pca.explained_variance_ratio_"
   ]
  },
  {
   "cell_type": "code",
   "execution_count": 212,
   "metadata": {},
   "outputs": [],
   "source": [
    "country_vectors_pca = pca.transform(country_vectors_only)"
   ]
  },
  {
   "cell_type": "code",
   "execution_count": 213,
   "metadata": {},
   "outputs": [
    {
     "data": {
      "text/plain": [
       "(206, 10)"
      ]
     },
     "execution_count": 213,
     "metadata": {},
     "output_type": "execute_result"
    }
   ],
   "source": [
    "country_vectors_only.shape"
   ]
  },
  {
   "cell_type": "code",
   "execution_count": 214,
   "metadata": {},
   "outputs": [
    {
     "data": {
      "text/plain": [
       "(206, 2)"
      ]
     },
     "execution_count": 214,
     "metadata": {},
     "output_type": "execute_result"
    }
   ],
   "source": [
    "country_vectors_pca.shape"
   ]
  },
  {
   "cell_type": "code",
   "execution_count": 217,
   "metadata": {},
   "outputs": [
    {
     "data": {
      "text/plain": [
       "numpy.ndarray"
      ]
     },
     "execution_count": 217,
     "metadata": {},
     "output_type": "execute_result"
    }
   ],
   "source": [
    "type(country_vectors_pca)"
   ]
  },
  {
   "cell_type": "code",
   "execution_count": 220,
   "metadata": {},
   "outputs": [
    {
     "data": {
      "text/plain": [
       "array([-0.08049187, -0.04216626, -0.08704384, -0.02901055, -0.07546581,\n",
       "        0.25805395, -0.0158441 , -0.07373677,  0.06038162, -0.06850062,\n",
       "       -0.07667761,  0.22288366, -0.03753591,  0.11349494,  0.26169042,\n",
       "       -0.10744763, -0.00261353,  0.23117537, -0.08246809,  0.03141749,\n",
       "       -0.1336041 , -0.01937257,  0.19621988, -0.07096312,  0.19755909,\n",
       "       -0.08251278, -0.05011663, -0.0626328 , -0.0829535 , -0.08353204,\n",
       "        0.15308082, -0.07331477, -0.051851  , -0.0583459 , -0.0637735 ,\n",
       "       -0.02977823, -0.18786865, -0.01508812, -0.04931819, -0.06497133,\n",
       "       -0.03224356, -0.07632385, -0.04808181, -0.08283547, -0.15876779,\n",
       "        0.09644521, -0.0381672 , -0.0438226 ,  0.08799503, -0.05592547,\n",
       "        0.24670778, -0.03714144, -0.0515261 , -0.07247782, -0.08112059,\n",
       "       -0.05564601, -0.07513174, -0.06290133, -0.1244609 , -0.04006329,\n",
       "       -0.09097465, -0.06617194,  0.16734372,  0.08350958, -0.00480883,\n",
       "       -0.05347196,  0.11491869, -0.09002545, -0.10172202,  0.11729703,\n",
       "       -0.00648873,  0.26284684, -0.03112154, -0.04898934, -0.10695612,\n",
       "        0.15266409, -0.01105888, -0.07290092, -0.05643924, -0.03448984,\n",
       "       -0.02234426,  0.08409722, -0.12838524, -0.02968883, -0.06576537,\n",
       "        0.0210142 ,  0.00744675, -0.07348521,  0.26423446,  0.00811187,\n",
       "        0.0339138 , -0.08553179,  0.0854788 ,  0.23426516, -0.04808152,\n",
       "       -0.10446827, -0.11142108, -0.11769556, -0.0476828 , -0.03125639,\n",
       "        0.20537043,  0.05452646, -0.09829085, -0.08683983, -0.05918032,\n",
       "       -0.11273181, -0.06382153, -0.04530452, -0.06913666,  0.12827126,\n",
       "        0.08551291,  0.07898885, -0.09414844,  0.1807736 ,  0.20888345,\n",
       "       -0.05782434,  0.21837442, -0.04811832, -0.06508109, -0.07776952,\n",
       "       -0.04549311, -0.14882007, -0.05935966, -0.04825142, -0.09004367,\n",
       "       -0.03140508,  0.05984305,  0.14397557,  0.07928641,  0.04101677,\n",
       "        0.04510164,  0.27267591, -0.08142429, -0.07019588,  0.10321776,\n",
       "       -0.02981919, -0.08004543,  0.08105276, -0.03086462, -0.06786341,\n",
       "        0.10646889, -0.02041965, -0.15278129, -0.05420148, -0.03722035,\n",
       "       -0.03686043, -0.08225131, -0.05048736, -0.12183651, -0.05236824,\n",
       "       -0.19711867, -0.03701897,  0.1421477 , -0.11198619, -0.09382326,\n",
       "       -0.04477769, -0.07452057,  0.13468578,  0.18711061,  0.18022741,\n",
       "       -0.05090531, -0.07872534, -0.15575044,  0.25094694,  0.00477279,\n",
       "        0.09212873, -0.06440377, -0.03943756,  0.12790328,  0.21886075,\n",
       "        0.2836442 ,  0.26930573, -0.08666421, -0.11087647,  0.17711746,\n",
       "        0.06368248, -0.07704322, -0.1011774 , -0.13236792, -0.10212311,\n",
       "       -0.09421767,  0.10694517,  0.06216763,  0.06545422,  0.06610562,\n",
       "       -0.05120229,  0.07505748,  0.23609326, -0.03081005, -0.09420409,\n",
       "       -0.05460582, -0.10050012,  0.2212605 ,  0.09353862, -0.07566446,\n",
       "       -0.01432007,  0.218689  , -0.06129412,  0.01047021, -0.11986936,\n",
       "        0.08793205, -0.07642632, -0.07949719, -0.09769326,  0.13154497,\n",
       "        0.12096696])"
      ]
     },
     "execution_count": 220,
     "metadata": {},
     "output_type": "execute_result"
    }
   ],
   "source": [
    "country_vectors_pca[:,0]"
   ]
  },
  {
   "cell_type": "code",
   "execution_count": 222,
   "metadata": {},
   "outputs": [],
   "source": [
    "import matplotlib.pyplot as plt\n",
    "%matplotlib inline"
   ]
  },
  {
   "cell_type": "code",
   "execution_count": 224,
   "metadata": {},
   "outputs": [
    {
     "data": {
      "text/plain": [
       "<matplotlib.collections.PathCollection at 0x1a42ddd400>"
      ]
     },
     "execution_count": 224,
     "metadata": {},
     "output_type": "execute_result"
    },
    {
     "data": {
      "image/png": "[encoded data removed]",
      "text/plain": [
       "<matplotlib.figure.Figure at 0x1a24422c50>"
      ]
     },
     "metadata": {},
     "output_type": "display_data"
    }
   ],
   "source": [
    "plt.scatter(country_vectors_pca[:,0],country_vectors_pca[:,1])"
   ]
  },
  {
   "cell_type": "code",
   "execution_count": 262,
   "metadata": {},
   "outputs": [
    {
     "data": {
      "text/plain": [
       "206"
      ]
     },
     "execution_count": 262,
     "metadata": {},
     "output_type": "execute_result"
    }
   ],
   "source": [
    "len(all_closest_constitutions_list_of_list)"
   ]
  },
  {
   "cell_type": "code",
   "execution_count": 261,
   "metadata": {},
   "outputs": [
    {
     "data": {
      "text/plain": [
       "count    2.060000e+02\n",
       "mean    -3.132607e-17\n",
       "std      1.118534e-01\n",
       "min     -1.971187e-01\n",
       "25%     -7.661479e-02\n",
       "50%     -4.539882e-02\n",
       "75%      7.921202e-02\n",
       "max      2.836442e-01\n",
       "Name: PCA_1, dtype: float64"
      ]
     },
     "execution_count": 261,
     "metadata": {},
     "output_type": "execute_result"
    }
   ],
   "source": [
    "topic_weights_df['PCA_1'].describe()"
   ]
  },
  {
   "cell_type": "code",
   "execution_count": 225,
   "metadata": {},
   "outputs": [],
   "source": [
    "topic_weights_df['PCA_1'] = country_vectors_pca[:,0]\n",
    "topic_weights_df['PCA_2'] = country_vectors_pca[:,1]"
   ]
  },
  {
   "cell_type": "code",
   "execution_count": 226,
   "metadata": {},
   "outputs": [],
   "source": [
    "topic_weights_df.to_csv(\"Topic_Weights.csv\")"
   ]
  },
  {
   "cell_type": "code",
   "execution_count": 263,
   "metadata": {},
   "outputs": [],
   "source": [
    "topic_weights_df['List_of_Neighbors'] = all_closest_constitutions_list_of_list"
   ]
  },
  {
   "cell_type": "code",
   "execution_count": 264,
   "metadata": {},
   "outputs": [
    {
     "data": {
      "text/plain": [
       "['Japan_1946',\n",
       " 'Jordan_2016',\n",
       " 'Norway_2016',\n",
       " 'Liechtenstein_2011',\n",
       " 'Philippines_1987',\n",
       " 'Bhutan_2008',\n",
       " 'Netherlands_2008',\n",
       " 'Denmark_1953',\n",
       " 'Uruguay_2004',\n",
       " 'Thailand_2017']"
      ]
     },
     "execution_count": 264,
     "metadata": {},
     "output_type": "execute_result"
    }
   ],
   "source": [
    "topic_weights_df.loc['Japan_1946','List_of_Neighbors'][0:10]"
   ]
  },
  {
   "cell_type": "code",
   "execution_count": 269,
   "metadata": {},
   "outputs": [
    {
     "data": {
      "text/plain": [
       "'China_2004'"
      ]
     },
     "execution_count": 269,
     "metadata": {},
     "output_type": "execute_result"
    }
   ],
   "source": [
    "topic_weights_df.loc['Cuba_2002', \n",
    "                     'Nearest_Constitution']"
   ]
  }
 ],
 "metadata": {
  "kernelspec": {
   "display_name": "Python 3",
   "language": "python",
   "name": "python3"
  },
  "language_info": {
   "codemirror_mode": {
    "name": "ipython",
    "version": 3
   },
   "file_extension": ".py",
   "mimetype": "text/x-python",
   "name": "python",
   "nbconvert_exporter": "python",
   "pygments_lexer": "ipython3",
   "version": "3.6.4"
  }
 },
 "nbformat": 4,
 "nbformat_minor": 2
}
